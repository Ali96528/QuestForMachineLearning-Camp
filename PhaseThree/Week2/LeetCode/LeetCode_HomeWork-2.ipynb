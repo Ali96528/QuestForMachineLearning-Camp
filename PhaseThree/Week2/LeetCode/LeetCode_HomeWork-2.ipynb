{
 "cells": [
  {
   "cell_type": "markdown",
   "metadata": {
    "collapsed": true
   },
   "source": [
    "# 第2周 Leetcode 算法题\n",
    "\n",
    "## 69. x 的平方根\n",
    "实现 int sqrt(int x) 函数。  \n",
    "计算并返回 x 的平方根，其中 x 是非负整数。  \n",
    "\n",
    "由于返回类型是整数，结果只保留整数的部分，小数部分将被舍去。  \n",
    "\n",
    "**示例 1:**  \n",
    ">**输入:** 4  \n",
    "**输出:** 2  \n",
    "\n",
    "**示例 2:**  \n",
    ">**输入:** 8  \n",
    "**输出:** 2  \n",
    "**说明:** 8 的平方根是 2.82842..., 由于返回类型是整数，小数部分将被舍去。\n",
    "\n",
    "来源：力扣（LeetCode）\n",
    "链接：https://leetcode-cn.com/problems/sqrtx\n",
    "著作权归领扣网络所有。商业转载请联系官方授权，非商业转载请注明出处。"
   ]
  },
  {
   "cell_type": "code",
   "execution_count": 1,
   "metadata": {},
   "outputs": [],
   "source": [
    "def test_mySqrt(func):\n",
    "    x = 4\n",
    "    assert func(x) == 2\n",
    "    x = 8\n",
    "    assert func(x) == 2"
   ]
  },
  {
   "cell_type": "markdown",
   "metadata": {},
   "source": [
    "### 二分法\n",
    "\n",
    "对于一个非负数n，它的平方根不会小于大于n/2+1。在[0, n/2+1]这个范围内可以进行二分搜索，求出n的平方根。"
   ]
  },
  {
   "cell_type": "code",
   "execution_count": 2,
   "metadata": {},
   "outputs": [],
   "source": [
    "def mySqrt_dichotomy(x: int) -> int:\n",
    "    # 为了照顾到 0 把左边界设置为 0\n",
    "    left_pointer = 0\n",
    "    # 为了照顾到 1 把右边界设置为 x // 2 + 1\n",
    "    right_pointer = x // 2 + 1\n",
    "    while left_pointer < right_pointer:\n",
    "        # 取右中位数\n",
    "        mid = (left_pointer + right_pointer + 1) // 2\n",
    "        sqrt_result = mid ** 2\n",
    "        if sqrt_result == x:\n",
    "            return mid\n",
    "        elif sqrt_result < x:\n",
    "            left_pointer = mid\n",
    "        else:\n",
    "            right_pointer = mid - 1\n",
    "\n",
    "    return right_pointer\n",
    "\n",
    "\n",
    "test_mySqrt(mySqrt_dichotomy)"
   ]
  },
  {
   "cell_type": "markdown",
   "metadata": {},
   "source": [
    "### 牛顿法\n",
    "在迭代过程中，以直线代替曲线，用一阶泰勒展式（即在当前点的切线）代替原曲线，求直线与$x$轴的交点，重复这个过程直到收敛。  \n",
    "其迭代公式为$\\displaystyle x_{i+1}=\\frac{1}{2}(x_i + \\frac{n}{x_i})$"
   ]
  },
  {
   "cell_type": "code",
   "execution_count": 3,
   "metadata": {},
   "outputs": [],
   "source": [
    "def mySqrt_Newton_iter(x: int) -> int:\n",
    "    if x == 0:\n",
    "        return 0\n",
    "\n",
    "    x0 = 0\n",
    "    x1 = 1\n",
    "    while abs(x1 - x0) > 1e-6:\n",
    "        x0, x1 = x1, (x1 + x / x1) / 2\n",
    "    return int(x1)\n",
    "\n",
    "\n",
    "test_mySqrt(mySqrt_Newton_iter)"
   ]
  },
  {
   "cell_type": "markdown",
   "metadata": {},
   "source": [
    "## 241. 为运算表达式设计优先级\n",
    "给定一个含有数字和运算符的字符串，为表达式添加括号，改变其运算优先级以求出不同的结果。你需要给出所有可能的组合的结果。有效的运算符号包含+、-以及\\*。\n",
    "\n",
    "**示例1:**  \n",
    ">**输入:** \"2-1-1\"  \n",
    "**输出:** [0, 2]  \n",
    "**解释:**  \n",
    "((2-1)-1) = 0   \n",
    "(2-(1-1)) = 2  \n",
    "\n",
    "**示例2:**  \n",
    ">**输入:** \"2\\*3-4\\*5\"  \n",
    "**输出:** [-34, -14, -10, -10, 10]  \n",
    "**解释:**   \n",
    "(2\\*(3-(4\\*5))) = -34  \n",
    "((2\\*3)-(4\\*5)) = -14   \n",
    "((2\\*(3-4))\\*5) = -10   \n",
    "(2\\*((3-4)\\*5)) = -10   \n",
    "(((2\\*3)-4)\\*5) = 10  \n",
    "\n",
    "来源：力扣（LeetCode）  \n",
    "链接：https://leetcode-cn.com/problems/different-ways-to-add-parentheses  \n",
    "著作权归领扣网络所有。商业转载请联系官方授权，非商业转载请注明出处。"
   ]
  },
  {
   "cell_type": "code",
   "execution_count": 4,
   "metadata": {},
   "outputs": [],
   "source": [
    "from typing import List\n",
    "from past.builtins import cmp\n",
    "\n",
    "def test_diffWaysToCompute(func):\n",
    "    input = '2-1-1'\n",
    "    assert cmp(func(input), [0, 2])\n",
    "    input = '2*3-4*5'\n",
    "    assert cmp(func(input), [-34, -14, -10, -10, 10])"
   ]
  },
  {
   "cell_type": "markdown",
   "metadata": {},
   "source": [
    "### 分治法"
   ]
  },
  {
   "cell_type": "code",
   "execution_count": 5,
   "metadata": {},
   "outputs": [],
   "source": [
    "def diffWaysToCompute_divide_and_conquer(input: str) -> List[int]:\n",
    "    # 如果只是一个数字，返回结果\n",
    "    if input.isdigit():\n",
    "        return [int(input)]\n",
    "\n",
    "    res = []\n",
    "    # 对输入的字符串遍历\n",
    "    for i, char in enumerate(input):\n",
    "        # 遇到运算符，计算两侧的值\n",
    "        if char in ['+', '-', '*']:\n",
    "            # 递归计算子运算公式的值\n",
    "            left_formula = diffWaysToCompute_divide_and_conquer(input[:i])\n",
    "            right_formula = diffWaysToCompute_divide_and_conquer(input[i + 1:])\n",
    "\n",
    "            for l in left_formula:\n",
    "                for r in right_formula:\n",
    "                    if char == '+':\n",
    "                        res.append(l + r)\n",
    "                    elif char == '-':\n",
    "                        res.append(l - r)\n",
    "                    elif char == '*':\n",
    "                        res.append(l * r)\n",
    "\n",
    "    return res\n",
    "\n",
    "\n",
    "test_diffWaysToCompute(diffWaysToCompute_divide_and_conquer)"
   ]
  },
  {
   "cell_type": "markdown",
   "metadata": {},
   "source": [
    "## 160. 相交链表\n",
    "编写一个程序，找到两个单链表相交的起始节点。\n",
    "\n",
    "**注意：**  \n",
    "如果两个链表没有交点，返回 null.  \n",
    "在返回结果后，两个链表仍须保持原有的结构。  \n",
    "可假定整个链表结构中没有循环。  \n",
    "程序尽量满足 O(n) 时间复杂度，且仅用 O(1) 内存。  \n",
    "\n",
    "来源：力扣（LeetCode）  \n",
    "链接：https://leetcode-cn.com/problems/intersection-of-two-linked-lists  \n",
    "著作权归领扣网络所有。商业转载请联系官方授权，非商业转载请注明出处。"
   ]
  },
  {
   "cell_type": "code",
   "execution_count": 6,
   "metadata": {},
   "outputs": [],
   "source": [
    "class ListNode(object):\n",
    "    def __init__(self, x):\n",
    "        self.val = x\n",
    "        self.next = None\n",
    "\n",
    "    def __eq__(self, other):\n",
    "        if self is not None and other is not None:\n",
    "            return self.val == other.val\n",
    "        return False\n",
    "\n",
    "def test_getIntersectionNode(func):\n",
    "    listA = [4, 1, 8, 4, 5]\n",
    "    headA = ListNode(listA[0])\n",
    "    p = headA\n",
    "    for i in listA[1:]:\n",
    "        node = ListNode(i)\n",
    "        p.next = node\n",
    "        p = p.next\n",
    "\n",
    "    listB = [5, 0, 1, 8, 4, 5]\n",
    "    headB = ListNode(listB[0])\n",
    "    p = headB\n",
    "    for i in listB[1:]:\n",
    "        node = ListNode(i)\n",
    "        p.next = node\n",
    "        p = p.next\n",
    "    res = func(headA, headB)\n",
    "    assert res == ListNode(1)"
   ]
  },
  {
   "cell_type": "markdown",
   "metadata": {},
   "source": [
    "### 环链法\n",
    "1. 指针 pA 指向 A 链表，指针 pB 指向 B 链表，依次向后遍历\n",
    "2. 如果 pA 到了末尾，则将 pA 重定向到 headB 继续遍历\n",
    "3. 如果 pB 到了末尾，则将 pB 重定向到 headA 继续遍历\n",
    "4. 继续比较两个指针的value，直到找到相交点"
   ]
  },
  {
   "cell_type": "code",
   "execution_count": 7,
   "metadata": {},
   "outputs": [],
   "source": [
    "def getIntersectionNode(headA: ListNode, headB: ListNode) -> ListNode:\n",
    "    \"\"\"\n",
    "    :type headA, headB: ListNode\n",
    "    :rtype: ListNode\n",
    "    \"\"\"\n",
    "    pA, pB = headA, headB\n",
    "    while pA != pB:\n",
    "        pA = headB if pA is None else pA.next\n",
    "        pB = headA if pB is None else pB.next\n",
    "    return pA\n",
    "\n",
    "\n",
    "test_getIntersectionNode(getIntersectionNode)"
   ]
  },
  {
   "cell_type": "markdown",
   "metadata": {},
   "source": [
    "## 两数之和\n",
    "给定一个整数数组 nums 和一个目标值 target，请你在该数组中找出和为目标值的那两个整数，并返回他们的数组下标。  \n",
    "你可以假设每种输入只会对应一个答案。但是，你不能重复利用这个数组中同样的元素。\n",
    "\n",
    "**示例:**  \n",
    ">给定 nums = [2, 7, 11, 15], target = 9  \n",
    "因为 nums[0] + nums[1] = 2 + 7 = 9  \n",
    "所以返回 [0, 1]  \n",
    "\n",
    "来源：力扣（LeetCode）  \n",
    "链接：https://leetcode-cn.com/problems/two-sum  \n",
    "著作权归领扣网络所有。商业转载请联系官方授权，非商业转载请注明出处。  "
   ]
  },
  {
   "cell_type": "code",
   "execution_count": 8,
   "metadata": {},
   "outputs": [],
   "source": [
    "def test_twoSum(func):\n",
    "    numbers = [2, 7, 11, 15]\n",
    "    target = 9\n",
    "    assert func(numbers, target)==[0, 1]"
   ]
  },
  {
   "cell_type": "markdown",
   "metadata": {},
   "source": [
    "### 字典法"
   ]
  },
  {
   "cell_type": "code",
   "execution_count": 9,
   "metadata": {},
   "outputs": [],
   "source": [
    "def twoSum_dic(nums: List[int], target: int) -> List[int]:\n",
    "    numDict = {}\n",
    "    for i, num in enumerate(nums):\n",
    "        if numDict.get(target - num) is not None:\n",
    "            return [ numDict.get(target - num), i]\n",
    "\n",
    "        numDict[num] = i\n",
    "        \n",
    "test_twoSum(twoSum_dic)"
   ]
  },
  {
   "cell_type": "markdown",
   "metadata": {},
   "source": [
    "## 242. 有效的字母异位词\n",
    "给定两个字符串 s 和 t ，编写一个函数来判断 t 是否是 s 的字母异位词。  \n",
    "\n",
    "**示例1:**  \n",
    ">**输入:** s = \"anagram\", t = \"nagaram\"  \n",
    "**输出:** true  \n",
    "\n",
    "**示例2:**  \n",
    ">**输入:** s = \"rat\", t = \"car\"  \n",
    "**输出:** false  \n",
    "\n",
    "**说明:**  \n",
    "你可以假设字符串只包含小写字母。  \n",
    "\n",
    "**进阶:**  \n",
    "如果输入字符串包含 unicode 字符怎么办？你能否调整你的解法来应对这种情况？  \n",
    "\n",
    "来源：力扣（LeetCode）  \n",
    "链接：https://leetcode-cn.com/problems/valid-anagram  \n",
    "著作权归领扣网络所有。商业转载请联系官方授权，非商业转载请注明出处。  "
   ]
  },
  {
   "cell_type": "code",
   "execution_count": 10,
   "metadata": {},
   "outputs": [],
   "source": [
    "def test_isAnagra(func):\n",
    "    s = \"anagram\"\n",
    "    t = \"nagaram\"\n",
    "    res = func(s, t)\n",
    "    assert res is True\n",
    "    s = \"rat\"\n",
    "    t = \"car\"\n",
    "    assert func(s, t) is False"
   ]
  },
  {
   "cell_type": "markdown",
   "metadata": {},
   "source": [
    "### 排序"
   ]
  },
  {
   "cell_type": "code",
   "execution_count": 11,
   "metadata": {},
   "outputs": [],
   "source": [
    "def isAnagram_sort(s: str, t: str) -> bool:\n",
    "    if len(s) != len(t):\n",
    "        return False\n",
    "    \n",
    "    return sorted(s) == sorted(t)\n",
    "\n",
    "\n",
    "test_isAnagra(isAnagram_sort)"
   ]
  },
  {
   "cell_type": "markdown",
   "metadata": {},
   "source": [
    "### 哈希表"
   ]
  },
  {
   "cell_type": "code",
   "execution_count": 12,
   "metadata": {},
   "outputs": [],
   "source": [
    "def isAnagram_hashtable(s: str, t: str) -> bool:\n",
    "    if len(s) != len(t):\n",
    "        return False\n",
    "\n",
    "    counter = {}\n",
    "    for i in range(len(s)):\n",
    "        counter[s[i]] = counter.get(s[i], 0) + 1\n",
    "        counter[t[i]] = counter.get(t[i], 0) - 1\n",
    "    for (key, value) in counter.items():\n",
    "        if value != 0:\n",
    "            return False\n",
    "\n",
    "    return True\n",
    "\n",
    "\n",
    "test_isAnagra(isAnagram_hashtable)"
   ]
  },
  {
   "cell_type": "markdown",
   "metadata": {},
   "source": [
    "## 232. 用栈实现队列\n",
    "使用栈实现队列的下列操作：\n",
    "- push(x) -- 将一个元素放入队列的尾部。\n",
    "- pop() -- 从队列首部移除元素。\n",
    "- peek() -- 返回队列首部的元素。\n",
    "- empty() -- 返回队列是否为空。\n",
    "\n",
    "**示例:**  \n",
    "```java\n",
    "MyQueue queue = new MyQueue();\n",
    "queue.push(1);\n",
    "queue.push(2);  \n",
    "queue.peek();   // 返回 1\n",
    "queue.pop();   // 返回 1\n",
    "queue.empty(); // 返回 false\n",
    "```\n",
    "**说明:**  \n",
    "- 你只能使用标准的栈操作 -- 也就是只有 push to top, peek/pop from top, size, 和 is empty 操作是合法的。\n",
    "- 你所使用的语言也许不支持栈。你可以使用 list 或者 deque（双端队列）来模拟一个栈，只要是标准的栈操作即可。\n",
    "- 假设所有操作都是有效的 （例如，一个空的队列不会调用 pop 或者 peek 操作）。\n",
    "\n",
    "来源：力扣（LeetCode）  \n",
    "链接：https://leetcode-cn.com/problems/implement-queue-using-stacks  \n",
    "著作权归领扣网络所有。商业转载请联系官方授权，非商业转载请注明出处。  "
   ]
  },
  {
   "cell_type": "code",
   "execution_count": 13,
   "metadata": {},
   "outputs": [],
   "source": [
    "def test_MyQueue():\n",
    "    queue = MyQueue()\n",
    "    assert queue.push(1) is None\n",
    "    assert queue.push(2) is None\n",
    "    assert queue.peek() == 1\n",
    "    assert queue.pop() == 1\n",
    "    assert queue.empty() == False"
   ]
  },
  {
   "cell_type": "code",
   "execution_count": 15,
   "metadata": {},
   "outputs": [],
   "source": [
    "class MyQueue:\n",
    "\n",
    "    def __init__(self):\n",
    "        \"\"\"\n",
    "        Initialize your data structure here.\n",
    "        \"\"\"\n",
    "        self.queue = []\n",
    "\n",
    "    def push(self, x: int) -> None:\n",
    "        \"\"\"\n",
    "        Push element x to the back of queue.\n",
    "        \"\"\"\n",
    "        self.queue.append(x)\n",
    "\n",
    "    def pop(self) -> int:\n",
    "        \"\"\"\n",
    "        Removes the element from in front of queue and returns that element.\n",
    "        \"\"\"\n",
    "        last_element = self.queue[0]\n",
    "        self.queue = self.queue[1:]\n",
    "        return last_element\n",
    "\n",
    "    def peek(self) -> int:\n",
    "        \"\"\"\n",
    "        Get the front element.\n",
    "        \"\"\"\n",
    "        return self.queue[0]\n",
    "\n",
    "    def empty(self) -> bool:\n",
    "        \"\"\"\n",
    "        Returns whether the queue is empty.\n",
    "        \"\"\"\n",
    "        return len(self.queue) == 0\n",
    "\n",
    "test_MyQueue()"
   ]
  },
  {
   "cell_type": "code",
   "execution_count": null,
   "metadata": {},
   "outputs": [],
   "source": []
  }
 ],
 "metadata": {
  "kernelspec": {
   "display_name": "Python 3",
   "language": "python",
   "name": "python3"
  },
  "language_info": {
   "codemirror_mode": {
    "name": "ipython",
    "version": 3
   },
   "file_extension": ".py",
   "mimetype": "text/x-python",
   "name": "python",
   "nbconvert_exporter": "python",
   "pygments_lexer": "ipython3",
   "version": "3.7.2"
  },
  "toc": {
   "base_numbering": 1,
   "nav_menu": {},
   "number_sections": true,
   "sideBar": true,
   "skip_h1_title": false,
   "title_cell": "Table of Contents",
   "title_sidebar": "Contents",
   "toc_cell": false,
   "toc_position": {},
   "toc_section_display": true,
   "toc_window_display": false
  }
 },
 "nbformat": 4,
 "nbformat_minor": 1
}
