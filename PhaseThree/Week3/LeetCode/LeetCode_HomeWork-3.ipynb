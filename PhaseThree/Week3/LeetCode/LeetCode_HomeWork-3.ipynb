{
 "cells": [
  {
   "cell_type": "markdown",
   "metadata": {
    "collapsed": true
   },
   "source": [
    "# 第3周 Leetcode 算法题\n",
    "\n",
    "## 409. 最长回文串\n",
    "给定一个包含大写字母和小写字母的字符串，找到通过这些字母构造成的最长的回文串。  \n",
    "在构造过程中，请注意区分大小写。比如 \"Aa\" 不能当做一个回文字符串。  \n",
    "\n",
    "**注意:**  \n",
    "假设字符串的长度不会超过 1010。  \n",
    "\n",
    "**示例1:**  \n",
    "\n",
    ">**输入:** \"abccccdd\"  \n",
    "**输出:** 7  \n",
    "**解释:** 我们可以构造的最长的回文串是\"dccaccd\", 它的长度是 7。  \n",
    "\n",
    "来源：力扣（LeetCode）  \n",
    "链接：https://leetcode-cn.com/problems/longest-palindrome  \n",
    "著作权归领扣网络所有。商业转载请联系官方授权，非商业转载请注明出处。  "
   ]
  },
  {
   "cell_type": "code",
   "execution_count": 1,
   "metadata": {},
   "outputs": [],
   "source": [
    "def test_longestPalindrome(func):\n",
    "    s = \"abccccdd\"\n",
    "    assert func(s) == 7"
   ]
  },
  {
   "cell_type": "markdown",
   "metadata": {},
   "source": [
    "### 计数法"
   ]
  },
  {
   "cell_type": "code",
   "execution_count": 2,
   "metadata": {},
   "outputs": [],
   "source": [
    "import collections\n",
    "\n",
    "def longestPalindrome_count(s: str) -> int:\n",
    "    counter = collections.Counter(s)\n",
    "    res = 0\n",
    "    flag = True\n",
    "    for key, value in counter.items():\n",
    "        if value % 2 == 0:\n",
    "            res += value\n",
    "        elif value % 2 != 0 and value != 1:\n",
    "            res += value - 1\n",
    "            flag = False\n",
    "        elif value == 1:\n",
    "            flag = False\n",
    "    if not flag:\n",
    "        res += 1\n",
    "\n",
    "    return res\n",
    "\n",
    "\n",
    "test_longestPalindrome(longestPalindrome_count)"
   ]
  },
  {
   "cell_type": "markdown",
   "metadata": {},
   "source": [
    "### 只用list结构的解法\n",
    "**思路：**出现个数为偶数的字符，个数全部相加。出现个数为奇数的字符，取-1，得到最大偶数，相加，最后再加1"
   ]
  },
  {
   "cell_type": "code",
   "execution_count": 3,
   "metadata": {},
   "outputs": [],
   "source": [
    "def longestPalindrome_list(s):\n",
    "    num_list = [s.count(c) // 2 for c in set(s)]\n",
    "    for c in set(s):\n",
    "        if s.count(c) % 2 == 1:\n",
    "            return sum(num_list) * 2 + 1\n",
    "\n",
    "    return sum(num_list) * 2\n",
    "\n",
    "test_longestPalindrome(longestPalindrome_list)"
   ]
  },
  {
   "cell_type": "markdown",
   "metadata": {},
   "source": [
    "### 官方解法"
   ]
  },
  {
   "cell_type": "code",
   "execution_count": 4,
   "metadata": {},
   "outputs": [],
   "source": [
    "def longestPalindrome(s):\n",
    "    ans = 0\n",
    "    for v in collections.Counter(s).values():\n",
    "        ans += v // 2 * 2\n",
    "        if ans % 2 == 0 and v % 2 == 1:\n",
    "            ans += 1\n",
    "    return ans\n",
    "\n",
    "\n",
    "test_longestPalindrome(longestPalindrome)"
   ]
  },
  {
   "cell_type": "markdown",
   "metadata": {},
   "source": [
    "## 378. 有序矩阵中第K小的元素\n",
    "\n",
    "给定一个$n \\times n$矩阵，其中每行和每列元素均按升序排序，找到矩阵中第k小的元素。  \n",
    "请注意，它是排序后的第k小元素，而不是第k个元素。  \n",
    "\n",
    "**示例:**\n",
    "```python\n",
    "matrix = [\n",
    "   [ 1,  5,  9],\n",
    "   [10, 11, 13],\n",
    "   [12, 13, 15]\n",
    "],\n",
    "k = 8,\n",
    "```\n",
    "返回 13。  \n",
    "**说明:**  \n",
    "你可以假设 k 的值永远是有效的, 1$\\leqslant$k$\\leqslant$n2 。\n",
    "\n",
    "来源：力扣（LeetCode）  \n",
    "链接：https://leetcode-cn.com/problems/kth-smallest-element-in-a-sorted-matrix  \n",
    "著作权归领扣网络所有。商业转载请联系官方授权，非商业转载请注明出处。  "
   ]
  },
  {
   "cell_type": "code",
   "execution_count": 5,
   "metadata": {},
   "outputs": [],
   "source": [
    "def test_kthSmallest(func):\n",
    "    matrix = [\n",
    "        [1, 5, 9],\n",
    "        [10, 11, 13],\n",
    "        [12, 13, 15]\n",
    "    ]\n",
    "    k = 8\n",
    "    assert func(matrix, k) == 13"
   ]
  },
  {
   "cell_type": "markdown",
   "metadata": {},
   "source": [
    "### 简单法"
   ]
  },
  {
   "cell_type": "code",
   "execution_count": 6,
   "metadata": {},
   "outputs": [],
   "source": [
    "import heapq\n",
    "from typing import List\n",
    "\n",
    "def kthSmallest_simple(matrix: List[List[int]], k: int) -> int:\n",
    "    array = [y for x in matrix for y in x]\n",
    "    return heapq.nsmallest(k, array)[-1]\n",
    "\n",
    "test_kthSmallest(kthSmallest_simple)"
   ]
  },
  {
   "cell_type": "markdown",
   "metadata": {},
   "source": [
    "### 插入排序"
   ]
  },
  {
   "cell_type": "code",
   "execution_count": 7,
   "metadata": {},
   "outputs": [],
   "source": [
    "import bisect\n",
    "\n",
    "def kthSmallest_bisect(matrix: List[List[int]], k: int) -> int:\n",
    "    q = []\n",
    "    for mat in matrix:\n",
    "        for i in mat:\n",
    "            bisect.insort(q, i)\n",
    "    return q[k - 1]\n",
    "\n",
    "test_kthSmallest(kthSmallest_bisect)"
   ]
  },
  {
   "cell_type": "markdown",
   "metadata": {},
   "source": [
    "### 解包快排\n",
    "**说明：**  \n",
    "```python\n",
    "[*itertools.chain(*matrix)]  \n",
    "```\n",
    "相当于： \n",
    "```python\n",
    "[matrix[i][j] for j in range(len(matrix[0])) for i in range(len(matrix))]\n",
    "```"
   ]
  },
  {
   "cell_type": "code",
   "execution_count": 8,
   "metadata": {},
   "outputs": [],
   "source": [
    "import itertools\n",
    "\n",
    "def kthSmallest_itertools(matrix: List[List[int]], k: int) -> int:\n",
    "    return sorted([*itertools.chain(*matrix)])[k - 1]\n",
    "\n",
    "test_kthSmallest(kthSmallest_itertools)"
   ]
  },
  {
   "cell_type": "markdown",
   "metadata": {},
   "source": [
    "## 260. 只出现一次的数字 III\n",
    "\n",
    "给定一个整数数组 nums，其中恰好有两个元素只出现一次，其余所有元素均出现两次。 找出只出现一次的那两个元素。\n",
    "\n",
    "**示例 :**  \n",
    ">**输入:** [1,2,1,3,2,5]  \n",
    "**输出:** [3,5]  \n",
    "\n",
    "**注意：**  \n",
    "结果输出的顺序并不重要，对于上面的例子，[5, 3]也是正确答案。  \n",
    "你的算法应该具有线性时间复杂度。你能否仅使用常数空间复杂度来实现？  \n",
    "\n",
    "来源：力扣（LeetCode）  \n",
    "链接：https://leetcode-cn.com/problems/single-number-iii  \n",
    "著作权归领扣网络所有。商业转载请联系官方授权，非商业转载请注明出处。  "
   ]
  },
  {
   "cell_type": "code",
   "execution_count": 9,
   "metadata": {},
   "outputs": [],
   "source": [
    "from past.builtins import cmp\n",
    "\n",
    "def test_singleNumber(func):\n",
    "    nums = [1, 2, 1, 3, 2, 5]\n",
    "    assert cmp(sorted(func(nums)), sorted([3, 5])) == 0"
   ]
  },
  {
   "cell_type": "markdown",
   "metadata": {},
   "source": [
    "### 字典法"
   ]
  },
  {
   "cell_type": "code",
   "execution_count": 10,
   "metadata": {},
   "outputs": [],
   "source": [
    "def singleNumber_dic(nums: List[int]) -> List[int]:\n",
    "    dic = {}\n",
    "    for i in nums:\n",
    "        dic[i] = dic.get(i, 0) + 1\n",
    "    return [key for key, value in dic.items() if value == 1]\n",
    "\n",
    "\n",
    "test_singleNumber(singleNumber_dic)"
   ]
  },
  {
   "cell_type": "markdown",
   "metadata": {},
   "source": [
    "### 哈希Set集合法"
   ]
  },
  {
   "cell_type": "code",
   "execution_count": 11,
   "metadata": {},
   "outputs": [],
   "source": [
    "def singleNumber_hashSet(nums: List[int]) -> List[int]:\n",
    "    hash_set = set()\n",
    "    for i in nums:\n",
    "        if i not in hash_set:\n",
    "            hash_set.add(i)\n",
    "        elif i in hash_set:\n",
    "            hash_set.remove(i)\n",
    "    return list(hash_set)\n",
    "\n",
    "\n",
    "test_singleNumber(singleNumber_hashSet)"
   ]
  },
  {
   "cell_type": "markdown",
   "metadata": {},
   "source": [
    "### 异或法"
   ]
  },
  {
   "cell_type": "markdown",
   "metadata": {},
   "source": [
    "假设a,b是两个不等的数，满足以下公式：  \n",
    "1. a xor a = 0\n",
    "2. b xor 0 = b\n",
    "3. (a xor a) xor b = b xor 0 = b\n",
    "\n",
    "**思路：**  \n",
    "1. 首先计算数组中所有数字异或值，得到这两个单独数的异或值\n",
    "2. 计算出异或值为1的那一位\n",
    "3. 将数组中的元素分成两组，分别计算这两组的异或值(利用公式3)，可得到这两个单独数"
   ]
  },
  {
   "cell_type": "code",
   "execution_count": 12,
   "metadata": {},
   "outputs": [],
   "source": [
    "def singleNumber_xor(nums: List[int]) -> List[int]:\n",
    "    xor = 0\n",
    "\n",
    "    # 得到的xor是两个单独数字的异或\n",
    "    for i in nums:\n",
    "        xor ^= i\n",
    "\n",
    "    # 左移mask，移动到xor为1的那一位，也是单独数字存在不同的一位\n",
    "    mask = 1\n",
    "    while mask & xor == 0:\n",
    "        mask <<= 1\n",
    "    \n",
    "    #按照不同的那一位，对数组分组，两个单独数字被分到不同的组\n",
    "    num1, num2 = 0, 0\n",
    "    for i in nums:\n",
    "        if i & mask == 0:\n",
    "            num1 ^= i\n",
    "        else:\n",
    "            num2 ^= i\n",
    "\n",
    "    return [num1, num2]\n",
    "\n",
    "\n",
    "test_singleNumber(singleNumber_xor)"
   ]
  },
  {
   "cell_type": "markdown",
   "metadata": {},
   "source": [
    "## 504. 七进制数\n",
    "给定一个整数，将其转化为7进制，并以字符串形式输出。\n",
    "\n",
    "**示例1:**  \n",
    ">**输入:** 100  \n",
    "**输出:** \"202\"  \n",
    "\n",
    "**示例 2:**  \n",
    ">**输入:** -7  \n",
    "**输出:** \"-10\"  \n",
    "\n",
    "**注意:** 输入范围是[-1e7, 1e7]。  \n",
    "\n",
    "来源：力扣（LeetCode）  \n",
    "链接：https://leetcode-cn.com/problems/base-7  \n",
    "著作权归领扣网络所有。商业转载请联系官方授权，非商业转载请注明出处。  "
   ]
  },
  {
   "cell_type": "code",
   "execution_count": 13,
   "metadata": {},
   "outputs": [],
   "source": [
    "def test_convertToBase7(func):\n",
    "    num = 100\n",
    "    assert func(num) == '202'\n",
    "    num = -7\n",
    "    assert func(num) == '-10'"
   ]
  },
  {
   "cell_type": "code",
   "execution_count": 14,
   "metadata": {},
   "outputs": [],
   "source": [
    "def convertToBase7(num: int) -> str:\n",
    "    res = []\n",
    "    if num < 0:\n",
    "        res.append('-')\n",
    "        num = -num\n",
    "    elif num == 0:\n",
    "        return '0'\n",
    "\n",
    "    while num != 0:\n",
    "        res.append(str(num % 7))\n",
    "        num //= 7\n",
    "\n",
    "    if res[0] == '-':\n",
    "        return res[0] + ''.join(reversed(res[1:]))\n",
    "    else:\n",
    "        return ''.join(reversed(res))\n",
    "\n",
    "test_convertToBase7(convertToBase7)"
   ]
  },
  {
   "cell_type": "markdown",
   "metadata": {},
   "source": [
    "## 462. 最少移动次数使数组元素相等 II\n",
    "\n",
    "给定一个非空整数数组，找到使所有数组元素相等所需的最小移动数，其中每次移动可将选定的一个元素加1或减1。 您可以假设数组的长度最多为10000。  \n",
    "\n",
    "**例如:**  \n",
    ">**输入:** [1,2,3]  \n",
    "**输出:** 2  \n",
    "**说明：** 只有两个动作是必要的（记得每一步仅可使其中一个元素加1或减1）：   \n",
    "[1,2,3]  =>  [2,2,3]  =>  [2,2,2]  \n",
    "\n",
    "来源：力扣（LeetCode）  \n",
    "链接：https://leetcode-cn.com/problems/minimum-moves-to-equal-array-elements-ii  \n",
    "著作权归领扣网络所有。商业转载请联系官方授权，非商业转载请注明出处。  "
   ]
  },
  {
   "cell_type": "markdown",
   "metadata": {},
   "source": [
    "**分析：**本题重要的就是在找中位数，在numpy中可以利用mean取到平均值，但是在该题中，平均值并不等于中位数，故需要采用算法对中位数进行查找。"
   ]
  },
  {
   "cell_type": "code",
   "execution_count": 15,
   "metadata": {},
   "outputs": [],
   "source": [
    "def test_minMoves2(func):\n",
    "    nums = [1,2,3]\n",
    "    assert func(nums) == 2"
   ]
  },
  {
   "cell_type": "markdown",
   "metadata": {},
   "source": [
    "### 排序寻找中位数"
   ]
  },
  {
   "cell_type": "code",
   "execution_count": 16,
   "metadata": {},
   "outputs": [],
   "source": [
    "def minMoves2_sort(nums: List[int]) -> int:\n",
    "    nums.sort()\n",
    "    sum = 0\n",
    "    mid = nums[(len(nums) -1) // 2]\n",
    "    for num in nums:\n",
    "        sum += abs(mid - num)\n",
    "    return sum\n",
    "\n",
    "test_minMoves2(minMoves2_sort)"
   ]
  },
  {
   "cell_type": "markdown",
   "metadata": {},
   "source": [
    "### 不用寻找中位数"
   ]
  },
  {
   "cell_type": "code",
   "execution_count": 17,
   "metadata": {},
   "outputs": [],
   "source": [
    "def minMoves2_no_search_mid(nums: List[int]) -> int:\n",
    "    nums.sort()\n",
    "    i, j = 0, len(nums) - 1\n",
    "    ans = 0\n",
    "    while i < j:\n",
    "        ans += nums[j] - nums[i]\n",
    "        i += 1\n",
    "        j -= 1\n",
    "\n",
    "    return ans\n",
    "\n",
    "test_minMoves2(minMoves2_no_search_mid)"
   ]
  },
  {
   "cell_type": "markdown",
   "metadata": {},
   "source": [
    "## 169. 求众数\n",
    "\n",
    "给定一个大小为 n 的数组，找到其中的众数。众数是指在数组中出现次数大于$\\lfloor n/2 \\rfloor$的元素。  \n",
    "你可以假设数组是非空的，并且给定的数组总是存在众数。  \n",
    "\n",
    "**示例1:**  \n",
    ">**输入:** [3,2,3]  \n",
    "**输出:** 3  \n",
    "\n",
    "**示例2:**  \n",
    ">**输入:** [2,2,1,1,1,2,2]  \n",
    "**输出:** 2  \n",
    "\n",
    "来源：力扣（LeetCode）  \n",
    "链接：https://leetcode-cn.com/problems/majority-element  \n",
    "著作权归领扣网络所有。商业转载请联系官方授权，非商业转载请注明出处。  "
   ]
  },
  {
   "cell_type": "code",
   "execution_count": 18,
   "metadata": {},
   "outputs": [],
   "source": [
    "def test_majorityElement(func):\n",
    "    nums = [3, 2, 3]\n",
    "    assert func(nums) == 3\n",
    "    nums = [2, 2, 1, 1, 1, 2, 2]\n",
    "    assert func(nums) == 2"
   ]
  },
  {
   "cell_type": "markdown",
   "metadata": {},
   "source": [
    "### 哈希表"
   ]
  },
  {
   "cell_type": "code",
   "execution_count": 19,
   "metadata": {},
   "outputs": [],
   "source": [
    "def majorityElement_hashSet(nums: List[int]) -> int:\n",
    "    counts = collections.Counter(nums)\n",
    "    return max(counts.keys(), key=counts.get)\n",
    "\n",
    "\n",
    "test_majorityElement(majorityElement_hashSet)"
   ]
  },
  {
   "cell_type": "markdown",
   "metadata": {},
   "source": [
    "### 分治法"
   ]
  },
  {
   "cell_type": "code",
   "execution_count": 20,
   "metadata": {},
   "outputs": [],
   "source": [
    "def majorityElement_divide_and_conquer(nums: List[int]) -> int:\n",
    "    def majority_element_rec(lo, hi):\n",
    "        if lo == hi:\n",
    "            return nums[lo]\n",
    "\n",
    "        mid = (hi - lo) // 2 + lo\n",
    "        left = majority_element_rec(lo, mid)\n",
    "        right = majority_element_rec(mid + 1, hi)\n",
    "\n",
    "        if left == right:\n",
    "            return left\n",
    "\n",
    "        left_count = sum(1 for i in range(lo, hi + 1) if nums[i] == left)\n",
    "        right_count = sum(1 for i in range(lo, hi + 1) if nums[i] == right)\n",
    "\n",
    "        return left if left_count > right_count else right\n",
    "\n",
    "    return majority_element_rec(0, len(nums) - 1)\n",
    "\n",
    "test_majorityElement(majorityElement_divide_and_conquer)"
   ]
  },
  {
   "cell_type": "code",
   "execution_count": null,
   "metadata": {},
   "outputs": [],
   "source": []
  }
 ],
 "metadata": {
  "kernelspec": {
   "display_name": "Python 3",
   "language": "python",
   "name": "python3"
  },
  "language_info": {
   "codemirror_mode": {
    "name": "ipython",
    "version": 3
   },
   "file_extension": ".py",
   "mimetype": "text/x-python",
   "name": "python",
   "nbconvert_exporter": "python",
   "pygments_lexer": "ipython3",
   "version": "3.7.2"
  },
  "toc": {
   "base_numbering": 1,
   "nav_menu": {},
   "number_sections": true,
   "sideBar": true,
   "skip_h1_title": false,
   "title_cell": "Table of Contents",
   "title_sidebar": "Contents",
   "toc_cell": false,
   "toc_position": {},
   "toc_section_display": true,
   "toc_window_display": false
  }
 },
 "nbformat": 4,
 "nbformat_minor": 1
}
