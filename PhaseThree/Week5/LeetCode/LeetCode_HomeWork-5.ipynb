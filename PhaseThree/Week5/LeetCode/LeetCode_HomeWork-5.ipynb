{
 "cells": [
  {
   "cell_type": "markdown",
   "metadata": {
    "collapsed": true
   },
   "source": [
    "# 第5周 Leetcode 算法题\n",
    "\n",
    "## 279. 完全平方数\n",
    "给定正整数 n，找到若干个完全平方数（比如 1, 4, 9, 16, ...）使得它们的和等于 n。你需要让组成和的完全平方数的个数最少。  \n",
    "**示例1:**\n",
    ">**输入:** n = 12  \n",
    "**输出:** 3   \n",
    "**解释:** 12 = 4 + 4 + 4.  \n",
    "\n",
    "**示例 2:**  \n",
    ">**输入:** n = 13  \n",
    "**输出:** 2  \n",
    "**解释:** 13 = 4 + 9.  \n",
    "\n",
    "来源：力扣（LeetCode）  \n",
    "链接：https://leetcode-cn.com/problems/perfect-squares  \n",
    "著作权归领扣网络所有。商业转载请联系官方授权，非商业转载请注明出处。  "
   ]
  },
  {
   "cell_type": "code",
   "execution_count": 1,
   "metadata": {},
   "outputs": [],
   "source": [
    "def test_numSquares(func):\n",
    "    n = 12\n",
    "    assert func(n) == 3\n",
    "    n = 13\n",
    "    assert func(n) == 2"
   ]
  },
  {
   "cell_type": "markdown",
   "metadata": {},
   "source": [
    "### BFS法\n",
    "\n",
    "1. BFS 算法组成的 3 元素：队列，入队出队的节点，已访问的集合。\n",
    "    - 队列：先入先出的容器；\n",
    "    - 节点：最好写成单独的类，比如本例写成 (value,step) 元组。也可写成 (value,visited)，看自己喜好和题目；\n",
    "    - 已访问集合：为了避免队列中插入重复的值\n",
    "\n",
    "2. BFS算法组成的套路：\n",
    "    1. 初始化三元素：\n",
    "    ```python\n",
    "        Node = node(n) queue = [Node] visited = set([Node.value])\n",
    "    ```\n",
    "    2. 操作队列 —— 弹出队首节点：\n",
    "    ```python\n",
    "        vertex = queue.pop(0)\n",
    "    ```\n",
    "    3. 操作弹出的节点 —— 根据业务生成子节点（一个或多个）：\n",
    "    ```python\n",
    "        [node(vertex.value - n*n, Node.step+1) for n in range(1,int(vertex.value**.5)+1)]\n",
    "    ```\n",
    "    4. 判断这些节点 —— 符合业务条件，则return，不符合业务条件，且不在已访问集合，则追加到队尾，并加入已访问集合：\n",
    "    ```python\n",
    "        if i==0:                   \n",
    "            return new_vertex.step\n",
    "        elif i not in visited:\n",
    "            queue.append(new_vertex)\n",
    "            visited.add(i)\n",
    "    ```\n",
    "    5. 若以上遍历完成仍未return，下面操作返回未找到代码：\n",
    "    ```python\n",
    "        return -1\n",
    "    ```\n",
    "\n",
    "作者：zi-lai-huo  \n",
    "链接：https://leetcode-cn.com/problems/perfect-squares/solution/python3zui-ji-chu-de-bfstao-lu-dai-ma-gua-he-ru-me/  \n",
    "来源：力扣（LeetCode）  \n",
    "著作权归作者所有。商业转载请联系作者获得授权，非商业转载请注明出处。  "
   ]
  },
  {
   "cell_type": "code",
   "execution_count": 2,
   "metadata": {},
   "outputs": [],
   "source": [
    "def numSquares_BFS(n: int) -> int:\n",
    "    class Node:\n",
    "        def __init__(self, value, step=0):\n",
    "            self.value = value\n",
    "            self.step = step\n",
    "\n",
    "    queue = [Node(n)]\n",
    "    visited = {Node(n).value}\n",
    "\n",
    "    while queue:\n",
    "        vertex = queue.pop(0)\n",
    "        residuals = [vertex.value - n * n for n in range(1, int(vertex.value ** .5) + 1)]\n",
    "        for i in residuals:\n",
    "            new_vertex = Node(i, vertex.step + 1)\n",
    "            if i == 0:\n",
    "                return new_vertex.step\n",
    "\n",
    "            elif i not in visited:\n",
    "                queue.append(new_vertex)\n",
    "                visited.add(i)\n",
    "\n",
    "    return -1\n",
    "\n",
    "\n",
    "test_numSquares(numSquares_BFS)"
   ]
  },
  {
   "cell_type": "markdown",
   "metadata": {},
   "source": [
    "### 拉格朗日四平方数算法\n",
    "\n",
    "**定理：**任何一个正整数$n$都可以表示成不超过四个整数的平方之和\n",
    "- 如果有四个整数，不能小于四个，一定满足$n=4^k(8m+7)$"
   ]
  },
  {
   "cell_type": "code",
   "execution_count": 3,
   "metadata": {},
   "outputs": [],
   "source": [
    "def numSquares_Lagrange(n: int) -> int:\n",
    "    \n",
    "    # 判断是否由4个整数构成\n",
    "    while n % 4 == 0:\n",
    "        n /= 4\n",
    "    if n % 8 == 7:\n",
    "        return 4\n",
    "    \n",
    "    # 从0开始遍历，找到满足两个平方数之和的数a和数b\n",
    "    a = 0\n",
    "    while a ** 2 <= n:\n",
    "        b = int((n - a ** 2) ** 0.5)\n",
    "        if a ** 2 + b ** 2 == n:\n",
    "            return bool(a) + bool(b)\n",
    "        a += 1\n",
    "    \n",
    "    # 否则其他情况都是3个平方数之和\n",
    "    return 3\n",
    "\n",
    "\n",
    "test_numSquares(numSquares_Lagrange)"
   ]
  },
  {
   "cell_type": "markdown",
   "metadata": {},
   "source": [
    "## 695. 岛屿的最大面积\n",
    "\n",
    "给定一个包含了一些0和1的非空二维数组grid, 一个岛屿是由四个方向 (水平或垂直) 的1(代表土地) 构成的组合。你可以假设二维矩阵的四个边缘都被水包围着。  \n",
    "找到给定的二维数组中最大的岛屿面积。(如果没有岛屿，则返回面积为0。)  \n",
    "\n",
    "**示例1:**\n",
    "```\n",
    "[[0,0,1,0,0,0,0,1,0,0,0,0,0],  \n",
    " [0,0,0,0,0,0,0,1,1,1,0,0,0],  \n",
    " [0,1,1,0,1,0,0,0,0,0,0,0,0],  \n",
    " [0,1,0,0,1,1,0,0,1,0,1,0,0],  \n",
    " [0,1,0,0,1,1,0,0,1,1,1,0,0],  \n",
    " [0,0,0,0,0,0,0,0,0,0,1,0,0],  \n",
    " [0,0,0,0,0,0,0,1,1,1,0,0,0],  \n",
    " [0,0,0,0,0,0,0,1,1,0,0,0,0]]\n",
    "```\n",
    "对于上面这个给定矩阵应返回6。注意答案不应该是11，因为岛屿只能包含水平或垂直的四个方向的‘1’。  \n",
    "\n",
    "**示例2:**  \n",
    "```\n",
    "[[0,0,0,0,0,0,0,0]]\n",
    "```\n",
    "对于上面这个给定的矩阵, 返回0。\n",
    "\n",
    "注意: 给定的矩阵grid的长度和宽度都不超过50。\n",
    "\n",
    "来源：力扣（LeetCode）  \n",
    "链接：https://leetcode-cn.com/problems/max-area-of-island  \n",
    "著作权归领扣网络所有。商业转载请联系官方授权，非商业转载请注明出处。  "
   ]
  },
  {
   "cell_type": "code",
   "execution_count": 4,
   "metadata": {},
   "outputs": [],
   "source": [
    "def test_maxAreaOfIsland(func):\n",
    "    grid = [[0, 0, 1, 0, 0, 0, 0, 1, 0, 0, 0, 0, 0],\n",
    "            [0, 0, 0, 0, 0, 0, 0, 1, 1, 1, 0, 0, 0],\n",
    "            [0, 1, 1, 0, 1, 0, 0, 0, 0, 0, 0, 0, 0],\n",
    "            [0, 1, 0, 0, 1, 1, 0, 0, 1, 0, 1, 0, 0],\n",
    "            [0, 1, 0, 0, 1, 1, 0, 0, 1, 1, 1, 0, 0],\n",
    "            [0, 0, 0, 0, 0, 0, 0, 0, 0, 0, 1, 0, 0],\n",
    "            [0, 0, 0, 0, 0, 0, 0, 1, 1, 1, 0, 0, 0],\n",
    "            [0, 0, 0, 0, 0, 0, 0, 1, 1, 0, 0, 0, 0]]\n",
    "    assert func(grid) == 6\n",
    "    grid = [[0, 0, 0, 0, 0, 0, 0, 0]]\n",
    "    assert func(grid) == 0"
   ]
  },
  {
   "cell_type": "code",
   "execution_count": 5,
   "metadata": {},
   "outputs": [],
   "source": [
    "from typing import List\n",
    "\n",
    "def maxAreaOfIsland(grid: List[List[int]]) -> int:\n",
    "    # DFS算法\n",
    "    def get_area(i, j):\n",
    "        if i < 0 or i >= len(grid) or j < 0 or j >= len(grid[0]) \\\n",
    "                or grid[i][j] == 0:\n",
    "            return 0\n",
    "        res = 1\n",
    "        grid[i][j] = 0\n",
    "        # 递归计算岛屿面积\n",
    "        res += get_area(i - 1, j)\n",
    "        res += get_area(i + 1, j)\n",
    "        res += get_area(i, j - 1)\n",
    "        res += get_area(i, j + 1)\n",
    "        return res\n",
    "\n",
    "    row_num = len(grid)\n",
    "    col_num = len(grid[0])\n",
    "    res = 0\n",
    "    for i in range(row_num):\n",
    "        for j in range(col_num):\n",
    "            if grid[i][j] == 1:\n",
    "                # 得到岛屿面积\n",
    "                area = get_area(i, j)\n",
    "                res = max(res, area)\n",
    "\n",
    "    return res\n",
    "\n",
    "test_maxAreaOfIsland(maxAreaOfIsland)"
   ]
  },
  {
   "cell_type": "markdown",
   "metadata": {},
   "source": [
    "## 17. 电话号码的字母组合\n",
    "\n",
    "给定一个仅包含数字 2-9 的字符串，返回所有它能表示的字母组合。  \n",
    "给出数字到字母的映射如下（与电话按键相同）。注意 1 不对应任何字母。\n",
    "\n",
    "<br/><center>\n",
    "<img style=\"border-radius: 0.3125em;box-shadow: 0 2px 4px 0 rgba(34,36,38,.12),0 2px 10px 0 rgba(34,36,38,.08);\" src=\"./images/17_telephone_keypad.png\" width = 20% height = 20%><br><div style=\"color:orange; border-bottom: 1px solid #d9d9d9;display: inline-block;color: #000;padding: 2px;\">电话键盘</div></center>\n",
    "\n",
    "**示例:**  \n",
    ">**输入：**\"23\"  \n",
    "**输出：**[\"ad\", \"ae\", \"af\", \"bd\", \"be\", \"bf\", \"cd\", \"ce\", \"cf\"].  \n",
    "\n",
    "**说明:**  \n",
    "尽管上面的答案是按字典序排列的，但是你可以任意选择答案输出的顺序。  \n",
    "\n",
    "来源：力扣（LeetCode）  \n",
    "链接：https://leetcode-cn.com/problems/letter-combinations-of-a-phone-number  \n",
    "著作权归领扣网络所有。商业转载请联系官方授权，非商业转载请注明出处。  "
   ]
  },
  {
   "cell_type": "code",
   "execution_count": 6,
   "metadata": {},
   "outputs": [],
   "source": [
    "from past.builtins import cmp\n",
    "\n",
    "\n",
    "def test_letterCombinations(func):\n",
    "    digits = \"23\"\n",
    "    res = func(digits)\n",
    "    assert cmp(sorted(res), sorted([\"ad\", \"ae\", \"af\", \"bd\", \"be\", \"bf\", \"cd\", \"ce\", \"cf\"])) == 0"
   ]
  },
  {
   "cell_type": "markdown",
   "metadata": {},
   "source": [
    "### 迭代法 "
   ]
  },
  {
   "cell_type": "code",
   "execution_count": 7,
   "metadata": {},
   "outputs": [],
   "source": [
    "def letterCombinations_iteration(digits: str) -> List[str]:\n",
    "    if not digits:\n",
    "        return []\n",
    "\n",
    "    phone = {'2': ['a', 'b', 'c'],\n",
    "             '3': ['d', 'e', 'f'],\n",
    "             '4': ['g', 'h', 'i'],\n",
    "             '5': ['j', 'k', 'l'],\n",
    "             '6': ['m', 'n', 'o'],\n",
    "             '7': ['p', 'q', 'r', 's'],\n",
    "             '8': ['t', 'u', 'v'],\n",
    "             '9': ['w', 'x', 'y', 'z']}\n",
    "    # 先往队列中加入一个空字符\n",
    "    res = [\"\"]\n",
    "    for char in digits:\n",
    "        size = len(res)\n",
    "        # 在字典表中取出对应的字符\n",
    "        letters = phone[char]\n",
    "        # 计算出数组长度后，将数组中的每个元素拿出来\n",
    "        for _ in range(size):\n",
    "            # 每次从数组中拿出第一个元素\n",
    "            tmp = res.pop(0)\n",
    "            # 然后进行字符拼接\n",
    "            for letter in letters:\n",
    "                res.append(tmp + letter)\n",
    "\n",
    "    return res\n",
    "\n",
    "\n",
    "test_letterCombinations(letterCombinations_iteration)"
   ]
  },
  {
   "cell_type": "markdown",
   "metadata": {},
   "source": [
    "### 递归法"
   ]
  },
  {
   "cell_type": "code",
   "execution_count": 8,
   "metadata": {},
   "outputs": [],
   "source": [
    "def letterCombinations_recursion(digits: str) -> List[str]:\n",
    "    if not digits:\n",
    "        return []\n",
    "\n",
    "    phone = {'2': ['a', 'b', 'c'],\n",
    "             '3': ['d', 'e', 'f'],\n",
    "             '4': ['g', 'h', 'i'],\n",
    "             '5': ['j', 'k', 'l'],\n",
    "             '6': ['m', 'n', 'o'],\n",
    "             '7': ['p', 'q', 'r', 's'],\n",
    "             '8': ['t', 'u', 'v'],\n",
    "             '9': ['w', 'x', 'y', 'z']}\n",
    "\n",
    "    def backtrack(combination, next_digits):\n",
    "        if len(next_digits) == 0:\n",
    "            # 将拼接的字符串存入数组中\n",
    "            res.append(combination)\n",
    "        else:\n",
    "            # 遍历第一个数字对应的字符列\n",
    "            for letter in phone[next_digits[0]]:\n",
    "                # 递归下一个字符，并进行拼接\n",
    "                backtrack(combination + letter, next_digits[1:])\n",
    "\n",
    "    res = []\n",
    "    if digits:\n",
    "        backtrack(\"\", digits)\n",
    "    return res\n",
    "\n",
    "\n",
    "test_letterCombinations(letterCombinations_recursion)"
   ]
  },
  {
   "cell_type": "markdown",
   "metadata": {},
   "source": [
    "### 调用product函数"
   ]
  },
  {
   "cell_type": "code",
   "execution_count": 9,
   "metadata": {},
   "outputs": [],
   "source": [
    "def letterCombinations_product(digits: str) -> List[str]:\n",
    "    from itertools import product\n",
    "\n",
    "    if not digits:\n",
    "        return []\n",
    "\n",
    "    phone = {'2': ['a', 'b', 'c'],\n",
    "             '3': ['d', 'e', 'f'],\n",
    "             '4': ['g', 'h', 'i'],\n",
    "             '5': ['j', 'k', 'l'],\n",
    "             '6': ['m', 'n', 'o'],\n",
    "             '7': ['p', 'q', 'r', 's'],\n",
    "             '8': ['t', 'u', 'v'],\n",
    "             '9': ['w', 'x', 'y', 'z']}\n",
    "\n",
    "    return [''.join(_) for _ in product(*[phone[_] for _ in digits])]\n",
    "\n",
    "\n",
    "test_letterCombinations(letterCombinations_product)"
   ]
  },
  {
   "cell_type": "markdown",
   "metadata": {},
   "source": [
    "## 70. 爬楼梯\n",
    "假设你正在爬楼梯。需要$n$阶你才能到达楼顶。  \n",
    "每次你可以爬 1 或 2 个台阶。你有多少种不同的方法可以爬到楼顶呢？  \n",
    "\n",
    "**注意：**给定$n$是一个正整数。  \n",
    "\n",
    "**示例1：**  \n",
    ">**输入：** 2  \n",
    "**输出：** 2  \n",
    "**解释：** 有两种方法可以爬到楼顶。  \n",
    "1. 1 阶 + 1 阶  \n",
    "2. 2 阶  \n",
    "\n",
    "**示例2：**  \n",
    ">**输入：** 3  \n",
    "**输出：** 3  \n",
    "**解释：**有三种方法可以爬到楼顶。  \n",
    "1. 1 阶 + 1 阶 + 1 阶\n",
    "2. 1 阶 + 2 阶\n",
    "3. 2 阶 + 1 阶\n",
    "\n",
    "来源：力扣（LeetCode）  \n",
    "链接：https://leetcode-cn.com/problems/climbing-stairs  \n",
    "著作权归领扣网络所有。商业转载请联系官方授权，非商业转载请注明出处。  \n"
   ]
  },
  {
   "cell_type": "code",
   "execution_count": 10,
   "metadata": {},
   "outputs": [],
   "source": [
    "def test_climbStairs(func):\n",
    "    n = 2\n",
    "    assert func(n) == 2\n",
    "    n = 3\n",
    "    assert func(n) == 3"
   ]
  },
  {
   "cell_type": "markdown",
   "metadata": {},
   "source": [
    "### 动态规划"
   ]
  },
  {
   "cell_type": "code",
   "execution_count": 11,
   "metadata": {},
   "outputs": [],
   "source": [
    "def climbStairs_dp(n: int) -> int:\n",
    "    if n == 1:\n",
    "        return 1\n",
    "\n",
    "    dp = [0 for _ in range(n + 1)]\n",
    "    dp[1] = 1\n",
    "    dp[2] = 2\n",
    "    for i in range(3, n+1):\n",
    "        dp[i] = dp[i - 1] + dp[i - 2]\n",
    "\n",
    "    return dp[n]\n",
    "                   \n",
    "\n",
    "test_climbStairs(climbStairs_dp)"
   ]
  },
  {
   "cell_type": "markdown",
   "metadata": {},
   "source": [
    "### 斐波那契数"
   ]
  },
  {
   "cell_type": "code",
   "execution_count": 12,
   "metadata": {},
   "outputs": [],
   "source": [
    "def climbStairs_fib(n: int) -> int:\n",
    "    if n == 1:\n",
    "        return 1\n",
    "\n",
    "    first = 1\n",
    "    second = 2\n",
    "    for i in range(3, n+1):\n",
    "        third = first + second\n",
    "        first, second = second, third\n",
    "\n",
    "    return second\n",
    "\n",
    "\n",
    "test_climbStairs(climbStairs_fib)"
   ]
  },
  {
   "cell_type": "markdown",
   "metadata": {},
   "source": [
    "### 公式法\n",
    "\n",
    "根据斐波那契的递归公式$a^{n+2}=a^{n+1}+a^n$，化简为$a^2-a-1=0$，求解该方程：\n",
    "$$a=\\frac{1}{\\sqrt{5}}\\left(\\frac{1\\pm \\sqrt{5}}{2}\\right)$$\n",
    "可得第$n$个斐波那契数为\n",
    "$$F_n=\\frac{1}{\\sqrt{5}}\\left[ \\left( \\frac{1+ \\sqrt{5}}{2}\\right)^{n+1} - \\left( \\frac{1- \\sqrt{5}}{2}\\right)^{n+1} \\right]$$"
   ]
  },
  {
   "cell_type": "code",
   "execution_count": 13,
   "metadata": {},
   "outputs": [],
   "source": [
    "import math\n",
    "\n",
    "def climbStairs_fib_formula(n: int) -> int:\n",
    "    sqrt5 = math.sqrt(5)\n",
    "    fibn = math.pow((1+sqrt5)/2, n+1) - math.pow((1-sqrt5)/2, n+1)\n",
    "    return fibn // sqrt5\n",
    "\n",
    "test_climbStairs(climbStairs_fib_formula)"
   ]
  },
  {
   "cell_type": "markdown",
   "metadata": {},
   "source": [
    "## 64. 最小路径和\n",
    "\n",
    "给定一个包含非负整数的$m \\times n$网格，请找出一条从左上角到右下角的路径，使得路径上的数字总和为最小。  \n",
    "\n",
    "**说明：**每次只能向下或者向右移动一步。  \n",
    "**示例:**  \n",
    ">**输入:**\n",
    "```\n",
    "[\n",
    "  [1,3,1],\n",
    "  [1,5,1],\n",
    "  [4,2,1]\n",
    "]\n",
    "```\n",
    "**输出:** 7  \n",
    "**解释:** 因为路径 1→3→1→1→1 的总和最小。  \n",
    "\n",
    "来源：力扣（LeetCode）  \n",
    "链接：https://leetcode-cn.com/problems/minimum-path-sum  \n",
    "著作权归领扣网络所有。商业转载请联系官方授权，非商业转载请注明出处。  "
   ]
  },
  {
   "cell_type": "code",
   "execution_count": 14,
   "metadata": {},
   "outputs": [],
   "source": [
    "def test_minPathSum(func):\n",
    "    grid = [[1, 3, 1],\n",
    "            [1, 5, 1],\n",
    "            [4, 2, 1]]\n",
    "    assert func(grid) == 7"
   ]
  },
  {
   "cell_type": "markdown",
   "metadata": {},
   "source": [
    "### 二维动态规划"
   ]
  },
  {
   "cell_type": "code",
   "execution_count": 15,
   "metadata": {},
   "outputs": [],
   "source": [
    "def minPathSum_dp(grid: List[List[int]]) -> int:\n",
    "    row_num = len(grid)\n",
    "    col_num = len(grid[0])\n",
    "\n",
    "    dp = [[0 for _ in range(col_num)] for _ in range(row_num)]\n",
    "\n",
    "    for i in range(row_num - 1, -1, -1):\n",
    "        for j in range(col_num - 1, -1, -1):\n",
    "            if i == row_num - 1 and j != col_num - 1:\n",
    "                dp[i][j] = grid[i][j] + dp[i][j + 1]\n",
    "            elif j == col_num - 1 and i != row_num - 1:\n",
    "                dp[i][j] = grid[i][j] + dp[i + 1][j]\n",
    "            elif j != col_num - 1 and i != row_num - 1:\n",
    "                dp[i][j] = grid[i][j] + min(dp[i + 1][j], dp[i][j + 1])\n",
    "            else:\n",
    "                dp[i][j] = grid[i][j]\n",
    "\n",
    "    return dp[0][0]\n",
    "\n",
    "\n",
    "test_minPathSum(minPathSum_dp)"
   ]
  },
  {
   "cell_type": "markdown",
   "metadata": {},
   "source": [
    "### 一维动态规划"
   ]
  },
  {
   "cell_type": "code",
   "execution_count": 16,
   "metadata": {},
   "outputs": [],
   "source": [
    "def minPathSum_dp(grid: List[List[int]]) -> int:\n",
    "    row_num = len(grid)\n",
    "    col_num = len(grid[0])\n",
    "\n",
    "    dp = [0] * col_num\n",
    "\n",
    "    for i in range(row_num - 1, -1, -1):\n",
    "        for j in range(col_num - 1, -1, -1):\n",
    "            if i == row_num - 1 and j != col_num - 1:\n",
    "                dp[j] = grid[i][j] + dp[j + 1]\n",
    "            elif j == col_num - 1 and i != row_num - 1:\n",
    "                dp[j] = grid[i][j] + dp[j]\n",
    "            elif j != col_num - 1 and i != row_num - 1:\n",
    "                dp[j] = grid[i][j] + min(dp[j], dp[j + 1])\n",
    "            else:\n",
    "                dp[j] = grid[i][j]\n",
    "\n",
    "    return dp[0]\n",
    "\n",
    "\n",
    "test_minPathSum(minPathSum_dp)"
   ]
  },
  {
   "cell_type": "markdown",
   "metadata": {},
   "source": [
    "## 303. 区域和检索 - 数组不可变\n",
    "\n",
    "给定一个整数数组  nums，求出数组从索引 i 到 j (i$\\leqslant$j) 范围内元素的总和，包含 i,j 两点。\n",
    "\n",
    "**示例：**  \n",
    ">给定 nums = [-2, 0, 3, -5, 2, -1]，求和函数为 sumRange()  \n",
    "```\n",
    "sumRange(0, 2) -> 1\n",
    "sumRange(2, 5) -> -1\n",
    "sumRange(0, 5) -> -3\n",
    "```\n",
    "\n",
    "**说明:**\n",
    "- 你可以假设数组不可变。\n",
    "- 会多次调用 sumRange 方法。\n",
    "\n",
    "来源：力扣（LeetCode）  \n",
    "链接：https://leetcode-cn.com/problems/range-sum-query-immutable  \n",
    "著作权归领扣网络所有。商业转载请联系官方授权，非商业转载请注明出处。  "
   ]
  },
  {
   "cell_type": "code",
   "execution_count": 17,
   "metadata": {},
   "outputs": [],
   "source": [
    "def test_NumArray():\n",
    "    nums = [-2, 0, 3, -5, 2, -1]\n",
    "    num_array = NumArray(nums)\n",
    "    assert num_array.sumRange(0, 2) == 1\n",
    "    assert num_array.sumRange(2, 5) == -1\n",
    "    assert num_array.sumRange(0, 5) == -3"
   ]
  },
  {
   "cell_type": "code",
   "execution_count": 18,
   "metadata": {},
   "outputs": [],
   "source": [
    "class NumArray:\n",
    "\n",
    "    def __init__(self, nums: List[int]):\n",
    "        if len(nums) == 0:\n",
    "            return\n",
    "\n",
    "        self.nums = nums\n",
    "        self.dp = [0] * len(nums)\n",
    "        # 采用缓存的思想\n",
    "        self.dp[0] = nums[0]\n",
    "        for i in range(1, len(nums)):\n",
    "            self.dp[i] = self.dp[i - 1] + nums[i]\n",
    "\n",
    "    def sumRange(self, i: int, j: int) -> int:\n",
    "        return self.dp[j] - self.dp[i] + self.nums[i]\n",
    "    \n",
    "    \n",
    "test_NumArray()"
   ]
  },
  {
   "cell_type": "markdown",
   "metadata": {},
   "source": [
    "## 343. 整数拆分\n",
    "\n",
    "给定一个正整数 n，将其拆分为至少两个正整数的和，并使这些整数的乘积最大化。 返回你可以获得的最大乘积。  \n",
    "**示例1:**  \n",
    ">**输入:** 2  \n",
    "**输出:** 1  \n",
    "**解释:** 2 = 1 + 1, 1 × 1 = 1。  \n",
    "\n",
    "**示例2:**  \n",
    ">**输入:** 10  \n",
    "**输出:** 36  \n",
    "**解释:** 10 = 3 + 3 + 4, 3 × 3 × 4 = 36。  \n",
    "\n",
    "**说明:** 你可以假设 n 不小于2且不大于 58。  \n",
    "\n",
    "来源：力扣（LeetCode）  \n",
    "链接：https://leetcode-cn.com/problems/integer-break  \n",
    "著作权归领扣网络所有。商业转载请联系官方授权，非商业转载请注明出处。  "
   ]
  },
  {
   "cell_type": "code",
   "execution_count": 19,
   "metadata": {},
   "outputs": [],
   "source": [
    "def test_integerBreak(func):\n",
    "    n = 2\n",
    "    assert func(n) == 1\n",
    "    n = 10\n",
    "    assert func(n) == 36"
   ]
  },
  {
   "cell_type": "code",
   "execution_count": 20,
   "metadata": {},
   "outputs": [],
   "source": [
    "def integerBreak(n: int) -> int:\n",
    "    if n <= 3:\n",
    "        return n - 1\n",
    "    # 求除以3之后的整数部分a和余数部分b\n",
    "    a, b = n // 3, n % 3\n",
    "    # 如果被3整除，则返回3的a方\n",
    "    if b == 0:\n",
    "        return pow(3, a)\n",
    "    # 如果余数为1，则需要拆出一个3，转换成2 + 2，返回3的a-1方*4\n",
    "    if b == 1:\n",
    "        return pow(3, a-1) * 4\n",
    "    # 如果余数为2，则直接返回3的a方*2\n",
    "    return pow(3, a) * 2\n",
    "\n",
    "\n",
    "test_integerBreak(integerBreak)"
   ]
  },
  {
   "cell_type": "markdown",
   "metadata": {},
   "source": [
    "## 300. 最长上升子序列\n",
    "\n",
    "给定一个无序的整数数组，找到其中最长上升子序列的长度。  \n",
    "\n",
    "**示例:**  \n",
    ">**输入:** [10,9,2,5,3,7,101,18]  \n",
    "**输出:** 4   \n",
    "**解释:** 最长的上升子序列是 [2,3,7,101]，它的长度是 4。  \n",
    "\n",
    "**说明:**\n",
    "- 可能会有多种最长上升子序列的组合，你只需要输出对应的长度即可。\n",
    "- 你算法的时间复杂度应该为$O(n^2)$。\n",
    "\n",
    "**进阶:** 你能将算法的时间复杂度降低到$O(n \\log n)$吗?  \n",
    "\n",
    "来源：力扣（LeetCode）  \n",
    "链接：https://leetcode-cn.com/problems/longest-increasing-subsequence  \n",
    "著作权归领扣网络所有。商业转载请联系官方授权，非商业转载请注明出处。  "
   ]
  },
  {
   "cell_type": "code",
   "execution_count": 21,
   "metadata": {},
   "outputs": [],
   "source": [
    "def test_lengthOfLIS(func):\n",
    "    nums = [10, 9, 2, 5, 3, 7, 101, 18]\n",
    "    assert func(nums) == 4"
   ]
  },
  {
   "cell_type": "markdown",
   "metadata": {},
   "source": [
    "### 动态规划"
   ]
  },
  {
   "cell_type": "code",
   "execution_count": 22,
   "metadata": {},
   "outputs": [],
   "source": [
    "def lengthOfLIS_dp(nums: List[int]) -> int:\n",
    "    dp = [1] * len(nums)\n",
    "    res = 1\n",
    "    for i in range(1, len(nums)):\n",
    "        max_val = 0\n",
    "        # 计算该值与之前值存在上升的个数max_val\n",
    "        for j in range(i):\n",
    "            if nums[i] > nums[j]:\n",
    "                max_val = max(max_val, dp[j])\n",
    "        # 该值的上升个数+1\n",
    "        dp[i] = max_val + 1\n",
    "        # 取最大值\n",
    "        res = max(res, dp[i])\n",
    "\n",
    "    return res\n",
    "\n",
    "test_lengthOfLIS(lengthOfLIS_dp)"
   ]
  },
  {
   "cell_type": "markdown",
   "metadata": {},
   "source": [
    "### 列表更新法"
   ]
  },
  {
   "cell_type": "code",
   "execution_count": 23,
   "metadata": {},
   "outputs": [],
   "source": [
    "def lengthOfLIS_list(nums: List[int]) -> int:\n",
    "    if len(nums) == 0:\n",
    "        return 0\n",
    "\n",
    "    result = nums[:1]\n",
    "    for i in range(1, len(nums)):\n",
    "        if nums[i] > result[-1]:\n",
    "            result.append(nums[i])\n",
    "        else:\n",
    "            for j in range(len(result)):\n",
    "                if nums[i] <= result[j]:\n",
    "                    result[j] = nums[i]\n",
    "                    break\n",
    "    return len(result)\n",
    "\n",
    "test_lengthOfLIS(lengthOfLIS_list)"
   ]
  },
  {
   "cell_type": "markdown",
   "metadata": {},
   "source": [
    "## 416. 分割等和子集\n",
    "给定一个只包含正整数的非空数组。是否可以将这个数组分割成两个子集，使得两个子集的元素和相等。  \n",
    "\n",
    "**注意:**   \n",
    "- 每个数组中的元素不会超过 100\n",
    "- 数组的大小不会超过 200\n",
    "\n",
    "**示例1:**  \n",
    ">**输入:** [1, 5, 11, 5]  \n",
    "**输出:** true  \n",
    "**解释:** 数组可以分割成 [1, 5, 5] 和 [11].  \n",
    "\n",
    "来源：力扣（LeetCode）  \n",
    "链接：https://leetcode-cn.com/problems/partition-equal-subset-sum  \n",
    "著作权归领扣网络所有。商业转载请联系官方授权，非商业转载请注明出处。  "
   ]
  },
  {
   "cell_type": "code",
   "execution_count": 24,
   "metadata": {},
   "outputs": [],
   "source": [
    "def test_canPartition(func):\n",
    "    nums = [1, 5, 11, 5]\n",
    "    assert func(nums) == True"
   ]
  },
  {
   "cell_type": "markdown",
   "metadata": {},
   "source": [
    "### 动态规划"
   ]
  },
  {
   "cell_type": "code",
   "execution_count": 25,
   "metadata": {},
   "outputs": [],
   "source": [
    "def canPartition_dp(nums: List[int]) -> bool:\n",
    "    size = len(nums)\n",
    "\n",
    "    # 如果数组的和不是偶数，返回False\n",
    "    s = sum(nums)\n",
    "    if s & 1 == 1:\n",
    "        return False\n",
    "\n",
    "    target = s // 2\n",
    "    # 初始化二维dp数组\n",
    "    dp = [[False for _ in range(target+ 1)] for _ in range(size)]\n",
    "\n",
    "    # 先写第 1 行：看看第 1 个数是不是能够刚好填满容量为 target\n",
    "    for i in range(target + 1):\n",
    "        dp[0][i] = False if nums[0] != i else True\n",
    "\n",
    "    for i in range(1, size):\n",
    "        for j in range(target+1):\n",
    "            if j >= nums[i]:\n",
    "                dp[i][j] = dp[i-1][j] or dp[i-1][j-nums[i]]\n",
    "            else:\n",
    "                dp[i][j] = dp[i-1][j]\n",
    "\n",
    "    return dp[-1][-1]\n",
    "\n",
    "test_canPartition(canPartition_dp)"
   ]
  },
  {
   "cell_type": "markdown",
   "metadata": {},
   "source": [
    "### DFS算法"
   ]
  },
  {
   "cell_type": "code",
   "execution_count": 26,
   "metadata": {},
   "outputs": [],
   "source": [
    "def canPartition_dfs(nums: List[int]) -> bool:\n",
    "    # 深度优先搜索\n",
    "    def dfs(r, nums):\n",
    "        for i in range(len(nums)):\n",
    "            if nums[i] + r > s:\n",
    "                return False\n",
    "            elif nums[i] + r == s:\n",
    "                return True\n",
    "            else:\n",
    "                if dfs(nums[i] + r, nums[i + 1:]):\n",
    "                    return True\n",
    "        return False\n",
    "\n",
    "    # 如果数组和不是偶数，返回False\n",
    "    s = sum(nums)\n",
    "    if s % 2 == 1:\n",
    "        return False\n",
    "\n",
    "    s //= 2\n",
    "    nums.sort(reverse=True)\n",
    "    if nums[0] > s:\n",
    "        return False\n",
    "\n",
    "    return dfs(0, nums)\n",
    "\n",
    "\n",
    "test_canPartition(canPartition_dfs)"
   ]
  },
  {
   "cell_type": "markdown",
   "metadata": {},
   "source": [
    "## 309. 最佳买卖股票时机含冷冻期\n",
    "\n",
    "给定一个整数数组，其中第 i 个元素代表了第 i 天的股票价格 。  \n",
    "设计一个算法计算出最大利润。在满足以下约束条件下，你可以尽可能地完成更多的交易（多次买卖一支股票）:\n",
    "- 你不能同时参与多笔交易（你必须在再次购买前出售掉之前的股票）。\n",
    "- 卖出股票后，你无法在第二天买入股票 (即冷冻期为 1 天)。\n",
    "\n",
    "**示例:**  \n",
    ">**输入:** [1,2,3,0,2]  \n",
    "**输出:** 3   \n",
    "**解释:** 对应的交易状态为: [买入, 卖出, 冷冻期, 买入, 卖出]  \n",
    "\n",
    "来源：力扣（LeetCode）  \n",
    "链接：https://leetcode-cn.com/problems/best-time-to-buy-and-sell-stock-with-cooldown  \n",
    "著作权归领扣网络所有。商业转载请联系官方授权，非商业转载请注明出处。  "
   ]
  },
  {
   "cell_type": "code",
   "execution_count": 27,
   "metadata": {},
   "outputs": [],
   "source": [
    "def test_maxProfit(func):\n",
    "    prices = [1, 2, 3, 0, 2]\n",
    "    assert func(prices) == 3"
   ]
  },
  {
   "cell_type": "markdown",
   "metadata": {},
   "source": [
    "**分析：**  \n",
    "每天可能存在三种状态：\n",
    "- hold：继续持有股票\n",
    "- sold：卖出股票\n",
    "- rest：什么都不做\n",
    "\n",
    "hold： 可由两个情况转换来\n",
    "- 前一天hold，当日rest\n",
    "- 前一天rest，当日买入股票变为hold\n",
    "\n",
    "sold：\n",
    "- 前一天hold，当日卖出股票\n",
    "\n",
    "rest：\n",
    "- 前一天sold，当日必须rest\n",
    "- 前一天rest，当日继续rest\n",
    "\n",
    "所以\n",
    "```\n",
    "sold[i] = hold[i-1] + price[i];\n",
    "hold[i] = max(hold[i-1], rest[i-1] - price[i])\n",
    "rest[i] = max(rest[i-1], sold[i-1])\n",
    "```\n",
    "最后一天最大值情况为要么什么都不做，要么卖出股票，即 max(sold，rest)。"
   ]
  },
  {
   "cell_type": "code",
   "execution_count": 28,
   "metadata": {},
   "outputs": [],
   "source": [
    "def maxProfit(prices: List[int]) -> int:\n",
    "    sold = rest = 0\n",
    "    hold = -math.inf\n",
    "    for price in prices:\n",
    "        pre_sold = sold\n",
    "        sold = hold + price\n",
    "        hold = max(hold, rest - price)\n",
    "        rest = max(rest, pre_sold)\n",
    "\n",
    "    return max(sold, rest)\n",
    "\n",
    "\n",
    "test_maxProfit(maxProfit)"
   ]
  },
  {
   "cell_type": "markdown",
   "metadata": {},
   "source": [
    "## 583. 两个字符串的删除操作\n",
    "\n",
    "给定两个单词 word1 和 word2，找到使得 word1 和 word2 相同所需的最小步数，每步可以删除任意一个字符串中的一个字符。\n",
    "\n",
    "**示例1:**  \n",
    ">**输入:** \"sea\", \"eat\"  \n",
    "**输出:** 2  \n",
    "**解释:** 第一步将\"sea\"变为\"ea\"，第二步将\"eat\"变为\"ea\"  \n",
    "\n",
    "**说明:**  \n",
    "- 给定单词的长度不超过500。  \n",
    "- 给定单词中的字符只含有小写字母。  \n",
    "\n",
    "来源：力扣（LeetCode）  \n",
    "链接：https://leetcode-cn.com/problems/delete-operation-for-two-strings  \n",
    "著作权归领扣网络所有。商业转载请联系官方授权，非商业转载请注明出处。  "
   ]
  },
  {
   "cell_type": "code",
   "execution_count": 29,
   "metadata": {},
   "outputs": [],
   "source": [
    "def test_minDistance(func):\n",
    "    word1 = \"sea\"\n",
    "    word2 = \"eat\"\n",
    "    assert func(word1, word2) == 2"
   ]
  },
  {
   "cell_type": "markdown",
   "metadata": {},
   "source": [
    "### 二维动态规划"
   ]
  },
  {
   "cell_type": "code",
   "execution_count": 30,
   "metadata": {},
   "outputs": [],
   "source": [
    "def minDistance_dp(word1: str, word2: str) -> int:\n",
    "    dp = [[0 for _ in range(len(word2) + 1)] for _ in range(len(word1) + 1)]\n",
    "\n",
    "    for i in range(len(word1) + 1):\n",
    "        for j in range(len(word2) + 1):\n",
    "            if i == 0 or j == 0:\n",
    "                continue\n",
    "            if word1[i - 1] == word2[j - 1]:\n",
    "                dp[i][j] = 1 + dp[i - 1][j - 1]\n",
    "            else:\n",
    "                dp[i][j] = max(dp[i - 1][j], dp[i][j - 1])\n",
    "\n",
    "    return len(word1) + len(word2) - 2 * dp[len(word1)][len(word2)]\n",
    "\n",
    "\n",
    "test_minDistance(minDistance_dp)"
   ]
  },
  {
   "cell_type": "markdown",
   "metadata": {},
   "source": [
    "### 一维动态规划"
   ]
  },
  {
   "cell_type": "code",
   "execution_count": 31,
   "metadata": {},
   "outputs": [],
   "source": [
    "def minDistance_dp(word1: str, word2: str) -> int:\n",
    "    m, n = len(word1), len(word2)\n",
    "    dp = [0] * (m + 1)\n",
    "    for char in word2:\n",
    "        temp = dp[:]\n",
    "        for i in range(m):\n",
    "            if word1[i] == char:\n",
    "                dp[i + 1] = temp[i] + 1\n",
    "            else:\n",
    "                dp[i + 1] = max(dp[i], temp[i + 1])\n",
    "    return m + n - dp[m] * 2\n",
    "\n",
    "\n",
    "test_minDistance(minDistance_dp)"
   ]
  },
  {
   "cell_type": "code",
   "execution_count": null,
   "metadata": {},
   "outputs": [],
   "source": []
  }
 ],
 "metadata": {
  "kernelspec": {
   "display_name": "Python 3",
   "language": "python",
   "name": "python3"
  },
  "language_info": {
   "codemirror_mode": {
    "name": "ipython",
    "version": 3
   },
   "file_extension": ".py",
   "mimetype": "text/x-python",
   "name": "python",
   "nbconvert_exporter": "python",
   "pygments_lexer": "ipython3",
   "version": "3.7.2"
  },
  "toc": {
   "base_numbering": 1,
   "nav_menu": {},
   "number_sections": true,
   "sideBar": true,
   "skip_h1_title": false,
   "title_cell": "Table of Contents",
   "title_sidebar": "Contents",
   "toc_cell": false,
   "toc_position": {
    "height": "calc(100% - 180px)",
    "left": "10px",
    "top": "150px",
    "width": "266px"
   },
   "toc_section_display": true,
   "toc_window_display": false
  }
 },
 "nbformat": 4,
 "nbformat_minor": 1
}
