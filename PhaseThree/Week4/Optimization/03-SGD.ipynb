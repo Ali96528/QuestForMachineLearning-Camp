{
 "cells": [
  {
   "cell_type": "markdown",
   "metadata": {
    "colab_type": "text",
    "id": "DGz9N4zzBejH"
   },
   "source": [
    "# SGD（随机梯度下降）\n",
    "\n",
    "## 加载训练数据"
   ]
  },
  {
   "cell_type": "code",
   "execution_count": 1,
   "metadata": {
    "colab": {},
    "colab_type": "code",
    "id": "f-UASov_BejI"
   },
   "outputs": [],
   "source": [
    "import numpy as np\n",
    "import matplotlib.pyplot as plt"
   ]
  },
  {
   "cell_type": "code",
   "execution_count": 2,
   "metadata": {
    "colab": {},
    "colab_type": "code",
    "id": "PuUefNS4BejP"
   },
   "outputs": [],
   "source": [
    "m = 100000\n",
    "\n",
    "x = np.random.normal(size=m)\n",
    "X = x.reshape(-1, 1)\n",
    "y = 4. * x + 3 + np.random.normal(0, 3, size=m)"
   ]
  },
  {
   "cell_type": "code",
   "execution_count": 3,
   "metadata": {
    "colab": {
     "base_uri": "https://localhost:8080/",
     "height": 84
    },
    "colab_type": "code",
    "executionInfo": {
     "elapsed": 1365,
     "status": "ok",
     "timestamp": 1565616675444,
     "user": {
      "displayName": "姜涛",
      "photoUrl": "",
      "userId": "04631377527255472122"
     },
     "user_tz": -480
    },
    "id": "ZwWX6OEjBejS",
    "outputId": "b09be8af-da02-467f-b4be-cce8301da55d"
   },
   "outputs": [
    {
     "data": {
      "text/plain": [
       "array([ 0.62027664, -0.27083048,  0.99994449,  0.73826316, -0.50719554,\n",
       "       -0.12608066,  1.80651869, -2.05598133,  2.11552938,  0.04267722,\n",
       "        0.96650211,  2.33810107,  0.99256819, -0.02935778,  0.13946469,\n",
       "       -1.07359731,  0.84146241, -0.65870403,  1.67369196,  0.73506173])"
      ]
     },
     "execution_count": 3,
     "metadata": {},
     "output_type": "execute_result"
    }
   ],
   "source": [
    "x[:20]"
   ]
  },
  {
   "cell_type": "code",
   "execution_count": 4,
   "metadata": {
    "colab": {
     "base_uri": "https://localhost:8080/",
     "height": 84
    },
    "colab_type": "code",
    "executionInfo": {
     "elapsed": 1335,
     "status": "ok",
     "timestamp": 1565616675445,
     "user": {
      "displayName": "姜涛",
      "photoUrl": "",
      "userId": "04631377527255472122"
     },
     "user_tz": -480
    },
    "id": "lcwpETBZBejY",
    "outputId": "6bd93921-d65d-4d62-c294-46708ae8dff6"
   },
   "outputs": [
    {
     "data": {
      "text/plain": [
       "array([ 5.40199445,  0.3878627 ,  5.48853306,  8.76491445,  1.19593655,\n",
       "        6.45768346,  6.8546047 , -5.32609715, 12.19668165, -1.07206523,\n",
       "       10.86970002, 16.15500107,  6.80812354,  4.51326574,  5.07159656,\n",
       "       -0.09328169,  9.90746192, -1.80316136,  8.89530118,  6.26383535])"
      ]
     },
     "execution_count": 4,
     "metadata": {},
     "output_type": "execute_result"
    }
   ],
   "source": [
    "y[:20]"
   ]
  },
  {
   "cell_type": "code",
   "execution_count": 5,
   "metadata": {
    "colab": {
     "base_uri": "https://localhost:8080/",
     "height": 269
    },
    "colab_type": "code",
    "executionInfo": {
     "elapsed": 3430,
     "status": "ok",
     "timestamp": 1565616677571,
     "user": {
      "displayName": "姜涛",
      "photoUrl": "",
      "userId": "04631377527255472122"
     },
     "user_tz": -480
    },
    "id": "sKBKXvNtBeje",
    "outputId": "175aabe2-5303-4eb8-8e7c-133d57511923",
    "scrolled": true
   },
   "outputs": [
    {
     "data": {
      "image/png": "[encoded data removed]",
      "text/plain": [
       "<Figure size 432x288 with 1 Axes>"
      ]
     },
     "metadata": {
      "needs_background": "light"
     },
     "output_type": "display_data"
    }
   ],
   "source": [
    "plt.scatter(x, y)\n",
    "plt.show()"
   ]
  },
  {
   "cell_type": "markdown",
   "metadata": {
    "colab_type": "text",
    "id": "cF-PqlTJBejj"
   },
   "source": [
    "## 我们复用我们上一节的代码"
   ]
  },
  {
   "cell_type": "code",
   "execution_count": 6,
   "metadata": {
    "colab": {},
    "colab_type": "code",
    "id": "1WgJpWIoBejk"
   },
   "outputs": [],
   "source": [
    "def J(theta, X_b, y):\n",
    "    try:\n",
    "        return np.sum((y - X_b.dot(theta)) ** 2) / len(y)\n",
    "    except:\n",
    "        return float('inf')\n",
    "    \n",
    "def dJ(theta, X_b, y):\n",
    "    res = np.empty(len(theta))\n",
    "    res[0] = np.sum(X_b.dot(theta) - y)\n",
    "    for i in range(1, len(theta)):\n",
    "        res[i] = (X_b.dot(theta) - y).dot(X_b[:,i])\n",
    "    \n",
    "    return res * 2 / len(X_b)\n",
    "\n",
    "def gradient_descent(X_b, y, initial_theta, eta, n_iters=1e4, epsilon=1e-8):\n",
    "\n",
    "    theta = initial_theta\n",
    "    cur_iter = 0\n",
    "\n",
    "    while cur_iter < n_iters:\n",
    "        gradient = dJ(theta, X_b, y)\n",
    "        last_theta = theta\n",
    "        theta = theta - eta * gradient\n",
    "        if (abs(J(theta, X_b, y) - J(last_theta, X_b, y)) < epsilon):\n",
    "            break\n",
    "\n",
    "        cur_iter += 1\n",
    "\n",
    "    return theta"
   ]
  },
  {
   "cell_type": "markdown",
   "metadata": {
    "colab_type": "text",
    "id": "Js-1NMapBejn"
   },
   "source": [
    "## 计算一下运行这个梯度下降的时间"
   ]
  },
  {
   "cell_type": "code",
   "execution_count": 7,
   "metadata": {
    "colab": {
     "base_uri": "https://localhost:8080/",
     "height": 101
    },
    "colab_type": "code",
    "executionInfo": {
     "elapsed": 3396,
     "status": "ok",
     "timestamp": 1565616677575,
     "user": {
      "displayName": "姜涛",
      "photoUrl": "",
      "userId": "04631377527255472122"
     },
     "user_tz": -480
    },
    "id": "qwJHTjCYBejo",
    "outputId": "05296292-a719-443a-8d4e-0af36c1aadb1"
   },
   "outputs": [
    {
     "data": {
      "text/plain": [
       "array([[ 1.        ,  0.62027664],\n",
       "       [ 1.        , -0.27083048],\n",
       "       [ 1.        ,  0.99994449],\n",
       "       [ 1.        ,  0.73826316],\n",
       "       [ 1.        , -0.50719554]])"
      ]
     },
     "execution_count": 7,
     "metadata": {},
     "output_type": "execute_result"
    }
   ],
   "source": [
    "X_b = np.hstack([np.ones((len(X), 1)), X])\n",
    "X_b[:5]"
   ]
  },
  {
   "cell_type": "code",
   "execution_count": 8,
   "metadata": {
    "colab": {
     "base_uri": "https://localhost:8080/",
     "height": 34
    },
    "colab_type": "code",
    "executionInfo": {
     "elapsed": 3355,
     "status": "ok",
     "timestamp": 1565616677576,
     "user": {
      "displayName": "姜涛",
      "photoUrl": "",
      "userId": "04631377527255472122"
     },
     "user_tz": -480
    },
    "id": "0uRS5k1MBejt",
    "outputId": "e7d0c15b-3db5-4f72-f338-e2af4b7a062c"
   },
   "outputs": [
    {
     "data": {
      "text/plain": [
       "array([0., 0.])"
      ]
     },
     "execution_count": 8,
     "metadata": {},
     "output_type": "execute_result"
    }
   ],
   "source": [
    "initial_theta = np.zeros(X_b.shape[1])\n",
    "eta = 0.01\n",
    "initial_theta"
   ]
  },
  {
   "cell_type": "code",
   "execution_count": 9,
   "metadata": {
    "colab": {
     "base_uri": "https://localhost:8080/",
     "height": 50
    },
    "colab_type": "code",
    "executionInfo": {
     "elapsed": 3738,
     "status": "ok",
     "timestamp": 1565616677986,
     "user": {
      "displayName": "姜涛",
      "photoUrl": "",
      "userId": "04631377527255472122"
     },
     "user_tz": -480
    },
    "id": "VkYtdErCBejw",
    "outputId": "2265c69b-79fb-46f7-e84f-d0f7a3c86f1d"
   },
   "outputs": [
    {
     "name": "stdout",
     "output_type": "stream",
     "text": [
      "Wall time: 1.7 s\n"
     ]
    }
   ],
   "source": [
    "%%time\n",
    "theta = gradient_descent(X_b, y, initial_theta, eta)"
   ]
  },
  {
   "cell_type": "code",
   "execution_count": 10,
   "metadata": {
    "colab": {
     "base_uri": "https://localhost:8080/",
     "height": 34
    },
    "colab_type": "code",
    "executionInfo": {
     "elapsed": 3725,
     "status": "ok",
     "timestamp": 1565616677988,
     "user": {
      "displayName": "姜涛",
      "photoUrl": "",
      "userId": "04631377527255472122"
     },
     "user_tz": -480
    },
    "id": "ZRTPF1zsBej1",
    "outputId": "43db7d11-b26d-49ad-fb75-b509b88184a3"
   },
   "outputs": [
    {
     "data": {
      "text/plain": [
       "array([2.99840028, 4.01723475])"
      ]
     },
     "execution_count": 10,
     "metadata": {},
     "output_type": "execute_result"
    }
   ],
   "source": [
    "theta"
   ]
  },
  {
   "cell_type": "markdown",
   "metadata": {
    "colab_type": "text",
    "id": "roeSKBTABej4"
   },
   "source": [
    "## 随机梯度下降法"
   ]
  },
  {
   "cell_type": "code",
   "execution_count": 11,
   "metadata": {
    "colab": {},
    "colab_type": "code",
    "id": "_0F4P7L0Bej5"
   },
   "outputs": [],
   "source": [
    "def dJ_sgd(theta, X_b_i, y_i):\n",
    "    return 2 * X_b_i.T.dot(X_b_i.dot(theta) - y_i)\n",
    "\n",
    "def sgd(X_b, y, initial_theta, n_iters):\n",
    "    # 此处是为了让学习率越来越小，避免直接跳过最优解\n",
    "    # 这是由于SGD本身的特性决定的\n",
    "    # t0和t1是两个超参数，可自行调节\n",
    "    t0, t1 = 5, 50\n",
    "    def learning_rate(t):\n",
    "        return t0 / (t + t1)\n",
    "    \n",
    "    theta = initial_theta\n",
    "    for cur_iter in range(n_iters):\n",
    "        # 随机取一个数据\n",
    "        rand_i = np.random.randint(len(X_b))\n",
    "        gradient = dJ_sgd(theta, X_b[rand_i], y[rand_i])\n",
    "        # 我们选用的是当前步数的倒数作为学习率，这样就实现了学习率越来越小\n",
    "        # 但是为了防止一开始学习率过大，我们分子和分母各增加参数进行调节\n",
    "        theta = theta - learning_rate(cur_iter) * gradient\n",
    "    return theta"
   ]
  },
  {
   "cell_type": "code",
   "execution_count": 12,
   "metadata": {
    "colab": {
     "base_uri": "https://localhost:8080/",
     "height": 50
    },
    "colab_type": "code",
    "executionInfo": {
     "elapsed": 4137,
     "status": "ok",
     "timestamp": 1565616678424,
     "user": {
      "displayName": "姜涛",
      "photoUrl": "",
      "userId": "04631377527255472122"
     },
     "user_tz": -480
    },
    "id": "qDubWy0dBej7",
    "outputId": "89ead3f2-66af-4b91-d974-1b6b62e652ba"
   },
   "outputs": [
    {
     "name": "stdout",
     "output_type": "stream",
     "text": [
      "Wall time: 259 ms\n"
     ]
    }
   ],
   "source": [
    "%%time\n",
    "X_b = np.hstack([np.ones((len(X), 1)), X])\n",
    "initial_theta = np.zeros(X_b.shape[1])\n",
    "theta = sgd(X_b, y, initial_theta, n_iters=m//3)"
   ]
  },
  {
   "cell_type": "code",
   "execution_count": 13,
   "metadata": {
    "colab": {
     "base_uri": "https://localhost:8080/",
     "height": 34
    },
    "colab_type": "code",
    "executionInfo": {
     "elapsed": 4121,
     "status": "ok",
     "timestamp": 1565616678425,
     "user": {
      "displayName": "姜涛",
      "photoUrl": "",
      "userId": "04631377527255472122"
     },
     "user_tz": -480
    },
    "id": "UY0HF_qEBej_",
    "outputId": "2d3271c0-bf90-4182-8393-b9e63d17a12c"
   },
   "outputs": [
    {
     "data": {
      "text/plain": [
       "array([2.96849269, 4.010034  ])"
      ]
     },
     "execution_count": 13,
     "metadata": {},
     "output_type": "execute_result"
    }
   ],
   "source": [
    "theta"
   ]
  },
  {
   "cell_type": "markdown",
   "metadata": {
    "colab_type": "text",
    "id": "xl2i7JAaBekD"
   },
   "source": [
    "可以看到最终的参数是近似的，但是时间提升了很多"
   ]
  }
 ],
 "metadata": {
  "colab": {
   "name": "03-SGD.ipynb",
   "provenance": [],
   "version": "0.3.2"
  },
  "kernelspec": {
   "display_name": "Python 3",
   "language": "python",
   "name": "python3"
  },
  "language_info": {
   "codemirror_mode": {
    "name": "ipython",
    "version": 3
   },
   "file_extension": ".py",
   "mimetype": "text/x-python",
   "name": "python",
   "nbconvert_exporter": "python",
   "pygments_lexer": "ipython3",
   "version": "3.7.2"
  },
  "toc": {
   "base_numbering": 1,
   "nav_menu": {},
   "number_sections": true,
   "sideBar": true,
   "skip_h1_title": false,
   "title_cell": "Table of Contents",
   "title_sidebar": "Contents",
   "toc_cell": false,
   "toc_position": {},
   "toc_section_display": true,
   "toc_window_display": false
  }
 },
 "nbformat": 4,
 "nbformat_minor": 1
}
