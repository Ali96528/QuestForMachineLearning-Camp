{
 "cells": [
  {
   "cell_type": "markdown",
   "metadata": {},
   "source": [
    "# 小批量梯度下降\n",
    "\n",
    "## 加载训练数据集"
   ]
  },
  {
   "cell_type": "code",
   "execution_count": 1,
   "metadata": {
    "colab": {},
    "colab_type": "code",
    "id": "P2db7QS06UyS"
   },
   "outputs": [],
   "source": [
    "import numpy as np\n",
    "import matplotlib.pyplot as plt"
   ]
  },
  {
   "cell_type": "code",
   "execution_count": 2,
   "metadata": {
    "colab": {},
    "colab_type": "code",
    "id": "QmdxW9m86LSH"
   },
   "outputs": [],
   "source": [
    "m = 100000\n",
    "\n",
    "x = np.random.normal(size=m)\n",
    "X = x.reshape(-1, 1)\n",
    "y = 4. * x + 3 + np.random.normal(0, 3, size=m)"
   ]
  },
  {
   "cell_type": "code",
   "execution_count": 3,
   "metadata": {
    "colab": {
     "base_uri": "https://localhost:8080/",
     "height": 269
    },
    "colab_type": "code",
    "executionInfo": {
     "elapsed": 3369,
     "status": "ok",
     "timestamp": 1565694943493,
     "user": {
      "displayName": "姜涛",
      "photoUrl": "",
      "userId": "04631377527255472122"
     },
     "user_tz": -480
    },
    "id": "xe7c2oGj7V3g",
    "outputId": "049d44f0-6690-4951-8eaa-accd92535003"
   },
   "outputs": [
    {
     "data": {
      "image/png": "[encoded data removed]",
      "text/plain": [
       "<Figure size 432x288 with 1 Axes>"
      ]
     },
     "metadata": {
      "needs_background": "light"
     },
     "output_type": "display_data"
    }
   ],
   "source": [
    "plt.scatter(x, y)\n",
    "plt.show()"
   ]
  },
  {
   "cell_type": "code",
   "execution_count": 4,
   "metadata": {
    "colab": {},
    "colab_type": "code",
    "id": "gJ3klSZQ6iN-"
   },
   "outputs": [],
   "source": [
    "def J(theta, X_b, y):\n",
    "    try:\n",
    "        return np.sum((y - X_b.dot(theta)) ** 2) / len(y)\n",
    "    except:\n",
    "        return float('inf')\n",
    "    \n",
    "def dJ(theta, X_b, y):\n",
    "    res = np.empty(len(theta))\n",
    "    res[0] = np.sum(X_b.dot(theta) - y)\n",
    "    for i in range(1, len(theta)):\n",
    "        res[i] = (X_b.dot(theta) - y).dot(X_b[:,i])\n",
    "    \n",
    "    return res * 2 / len(X_b)\n",
    "\n",
    "def gradient_descent(X_b, y, initial_theta, eta, n_iters=1e4, epsilon=1e-8):\n",
    "\n",
    "    theta = initial_theta\n",
    "    cur_iter = 0\n",
    "\n",
    "    while cur_iter < n_iters:\n",
    "        gradient = dJ(theta, X_b, y)\n",
    "        last_theta = theta\n",
    "        theta = theta - eta * gradient\n",
    "        if (abs(J(theta, X_b, y) - J(last_theta, X_b, y)) < epsilon):\n",
    "            break\n",
    "\n",
    "        cur_iter += 1\n",
    "\n",
    "    return theta"
   ]
  },
  {
   "cell_type": "markdown",
   "metadata": {
    "colab_type": "text",
    "id": "FJv2aGkHrH5f"
   },
   "source": [
    "## 小批量随机梯度下降"
   ]
  },
  {
   "cell_type": "code",
   "execution_count": 5,
   "metadata": {
    "colab": {},
    "colab_type": "code",
    "id": "qINeq5YZrHuC"
   },
   "outputs": [],
   "source": [
    "def mini_batch_gredient_descent(X_b, y, initial_theta, n_iters=1e4, batch_size=10):\n",
    "    t0, t1 = 5, 50\n",
    "    def learning_rate(t):\n",
    "        return t0 / (t + t1)\n",
    "    \n",
    "    theta = initial_theta\n",
    "    # 构造一个索引并打乱\n",
    "    indices = np.arange(X_b.shape[0])\n",
    "    np.random.shuffle(indices)\n",
    "    cur_iter = 1\n",
    "    for idx in range(0, len(indices) - batch_size + 1, batch_size):\n",
    "        # 按照batch_size 取索引\n",
    "        mini_batch_index = indices[idx: idx + batch_size]\n",
    "        mini_X_b = X_b[mini_batch_index]\n",
    "        mini_y = y[mini_batch_index]\n",
    "        gradient = dJ(theta, mini_X_b, mini_y)\n",
    "        theta = theta - learning_rate(cur_iter) * gradient\n",
    "        if cur_iter > n_iters:\n",
    "            break\n",
    "        cur_iter += 1\n",
    "    return theta"
   ]
  },
  {
   "cell_type": "code",
   "execution_count": 6,
   "metadata": {
    "colab": {
     "base_uri": "https://localhost:8080/",
     "height": 50
    },
    "colab_type": "code",
    "executionInfo": {
     "elapsed": 3326,
     "status": "ok",
     "timestamp": 1565694943497,
     "user": {
      "displayName": "姜涛",
      "photoUrl": "",
      "userId": "04631377527255472122"
     },
     "user_tz": -480
    },
    "id": "PcmSj9Ji7lbJ",
    "outputId": "21943b3d-e122-4d89-d1f4-5056e95aa899"
   },
   "outputs": [
    {
     "name": "stdout",
     "output_type": "stream",
     "text": [
      "Wall time: 224 ms\n"
     ]
    }
   ],
   "source": [
    "%%time\n",
    "X_b = np.hstack([np.ones((len(X), 1)), X])\n",
    "initial_theta = np.zeros(X_b.shape[1])\n",
    "theta = mini_batch_gredient_descent(X_b, y, initial_theta, n_iters=m//3)"
   ]
  },
  {
   "cell_type": "code",
   "execution_count": 7,
   "metadata": {
    "colab": {
     "base_uri": "https://localhost:8080/",
     "height": 34
    },
    "colab_type": "code",
    "executionInfo": {
     "elapsed": 3312,
     "status": "ok",
     "timestamp": 1565694943498,
     "user": {
      "displayName": "姜涛",
      "photoUrl": "",
      "userId": "04631377527255472122"
     },
     "user_tz": -480
    },
    "id": "YM3g6mjL6-6N",
    "outputId": "3fd0e020-64c2-47ba-fa60-3f4c66a958f0"
   },
   "outputs": [
    {
     "data": {
      "text/plain": [
       "array([3.05123046, 3.99934353])"
      ]
     },
     "execution_count": 7,
     "metadata": {},
     "output_type": "execute_result"
    }
   ],
   "source": [
    "theta"
   ]
  },
  {
   "cell_type": "markdown",
   "metadata": {
    "colab_type": "text",
    "id": "6xCBQlYDrYP7"
   },
   "source": [
    "## 动量"
   ]
  },
  {
   "cell_type": "code",
   "execution_count": 8,
   "metadata": {
    "colab": {},
    "colab_type": "code",
    "id": "TuEgI2YZrXq3"
   },
   "outputs": [],
   "source": [
    "def mini_batch_gredient_descent_momentum(X_b, y, initial_theta, n_iters=1e4, batch_size=10, gamma=0.9):\n",
    "    t0, t1 = 5, 50\n",
    "    def learning_rate(t):\n",
    "        return t0 / (t + t1)\n",
    "    \n",
    "    theta = initial_theta\n",
    "    pre_vt = .0\n",
    "    # 构造一个索引并打乱\n",
    "    indices = np.arange(X_b.shape[0])\n",
    "    np.random.shuffle(indices)\n",
    "    cur_iter = 1\n",
    "    for idx in range(0, len(indices) - batch_size + 1, batch_size):\n",
    "        # 按照batch_size 取索引\n",
    "        mini_batch_index = indices[idx: idx + batch_size]\n",
    "        mini_X_b = X_b[mini_batch_index]\n",
    "        mini_y = y[mini_batch_index]\n",
    "        gradient = dJ(theta, mini_X_b, mini_y)\n",
    "        # 加入动量\n",
    "        vt = learning_rate(cur_iter) * gradient + gamma * pre_vt\n",
    "        pre_vt = vt\n",
    "        theta = theta - vt\n",
    "        if cur_iter > n_iters:\n",
    "            break\n",
    "        cur_iter += 1\n",
    "    return theta"
   ]
  },
  {
   "cell_type": "code",
   "execution_count": 9,
   "metadata": {
    "colab": {
     "base_uri": "https://localhost:8080/",
     "height": 50
    },
    "colab_type": "code",
    "executionInfo": {
     "elapsed": 3291,
     "status": "ok",
     "timestamp": 1565694943500,
     "user": {
      "displayName": "姜涛",
      "photoUrl": "",
      "userId": "04631377527255472122"
     },
     "user_tz": -480
    },
    "id": "jTv9ENFjsHcI",
    "outputId": "b67edc10-f0d8-45ab-aafe-61193424862d"
   },
   "outputs": [
    {
     "name": "stdout",
     "output_type": "stream",
     "text": [
      "Wall time: 226 ms\n"
     ]
    }
   ],
   "source": [
    "%%time\n",
    "X_b = np.hstack([np.ones((len(X), 1)), X])\n",
    "initial_theta = np.zeros(X_b.shape[1])\n",
    "theta = mini_batch_gredient_descent(X_b, y, initial_theta, n_iters=m//3)"
   ]
  },
  {
   "cell_type": "code",
   "execution_count": 10,
   "metadata": {
    "colab": {
     "base_uri": "https://localhost:8080/",
     "height": 34
    },
    "colab_type": "code",
    "executionInfo": {
     "elapsed": 1722,
     "status": "ok",
     "timestamp": 1565694952018,
     "user": {
      "displayName": "姜涛",
      "photoUrl": "",
      "userId": "04631377527255472122"
     },
     "user_tz": -480
    },
    "id": "HR2cayBmsKQJ",
    "outputId": "12e14535-b2b3-4e0f-8c31-b6bd70360414"
   },
   "outputs": [
    {
     "data": {
      "text/plain": [
       "array([2.9940046 , 4.01109641])"
      ]
     },
     "execution_count": 10,
     "metadata": {},
     "output_type": "execute_result"
    }
   ],
   "source": [
    "theta"
   ]
  }
 ],
 "metadata": {
  "colab": {
   "collapsed_sections": [],
   "name": "小批量随机梯度下降.ipynb",
   "provenance": [],
   "version": "0.3.2"
  },
  "kernelspec": {
   "display_name": "Python 3",
   "language": "python",
   "name": "python3"
  },
  "language_info": {
   "codemirror_mode": {
    "name": "ipython",
    "version": 3
   },
   "file_extension": ".py",
   "mimetype": "text/x-python",
   "name": "python",
   "nbconvert_exporter": "python",
   "pygments_lexer": "ipython3",
   "version": "3.7.2"
  },
  "toc": {
   "base_numbering": 1,
   "nav_menu": {},
   "number_sections": true,
   "sideBar": true,
   "skip_h1_title": false,
   "title_cell": "Table of Contents",
   "title_sidebar": "Contents",
   "toc_cell": false,
   "toc_position": {},
   "toc_section_display": true,
   "toc_window_display": false
  }
 },
 "nbformat": 4,
 "nbformat_minor": 1
}
