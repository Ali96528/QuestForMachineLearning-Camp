{
 "cells": [
  {
   "cell_type": "code",
   "execution_count": 1,
   "metadata": {
    "colab": {},
    "colab_type": "code",
    "id": "1U0UfS5LXuxW"
   },
   "outputs": [],
   "source": [
    "import numpy as np\n",
    "import scipy.special as ss\n",
    "import matplotlib.pyplot as plt"
   ]
  },
  {
   "cell_type": "markdown",
   "metadata": {
    "colab_type": "text",
    "id": "HHPpz8PUXuxb"
   },
   "source": [
    "### 前提\n",
    "我们假设任一的马尔科夫链具有 $[0, 1]$ 区间上的无限的状态，转移矩阵为 $P$，满足 $P_{ij}=P_{ji}$（对称阵）。在下面的描述及实现中，其实我们并不需要关于 P 的任何信息。"
   ]
  },
  {
   "cell_type": "markdown",
   "metadata": {
    "colab_type": "text",
    "id": "HPcjZVIRXuxc"
   },
   "source": [
    "### 简单提一下关于Beta分布\n",
    "密度函数是：\n",
    "\\begin{split} f(x;a, b)=&\\textrm{constant}\\cdot x^{\\alpha-1}(1-x)^{\\beta-1}\\\\ =&\\frac{x^{\\alpha-1}(1-x)^{\\beta-1}}{B(a,b)} \\end{split}\n",
    "\n",
    "实际意义我们先不管，我们只是知道了这样一个pdf，然后要对它进行采样\n",
    "\n"
   ]
  },
  {
   "cell_type": "markdown",
   "metadata": {
    "colab_type": "text",
    "id": "NaUMacXLXuxd"
   },
   "source": [
    "### 采样步骤\n",
    "1. 初始化马氏链 Initial State（初始状态） $i\\sim U(0, 1)$\n",
    "2. 随机在转移矩阵 P的 第 i 行（表示从当前状态 i 出发可能到达的状态）中选择一个新的状态j。简单起见我们选择 $j\\sim U(0,1)$\n",
    "3. 计算接受概率（Acceptance Probability）（本质仍然是一种舍选）： \n",
    "$\\alpha_{ij}=\\min\\{\\frac{s_jP_{ji}}{s_iP_{ij}}, 1\\}$\n",
    "\n",
    "4. 有了前述的 $P_{ij}=P_{ji}$ 的约束，对 $\\alpha_{ij}$的定义可简化为： \n",
    "$\\alpha_{ij}=\\min\\{\\frac{s_j}{s_i}, 1\\}$\n",
    "其中，$s_i=Ci^{a-1}(1-i)^{b-1},\\;s_j=Cj^{a-1}(1-j)^{b-1}$，"
   ]
  },
  {
   "cell_type": "code",
   "execution_count": 2,
   "metadata": {
    "colab": {},
    "colab_type": "code",
    "id": "m_nJtyBNc8o7"
   },
   "outputs": [],
   "source": [
    "def beta_s(x, a, b):\n",
    "    return x**(a-1)*(1-x)**(b-1)\n",
    "# Beta distribution的概率密度函数（pdf）\n",
    "def beta(x, a, b):\n",
    "    return beta_s(x, a, b)/ss.beta(a, b)"
   ]
  },
  {
   "cell_type": "code",
   "execution_count": 4,
   "metadata": {
    "colab": {},
    "colab_type": "code",
    "id": "yVsYYQ3_Xuxf"
   },
   "outputs": [],
   "source": [
    "def plot_mh(a, b):\n",
    "    cur = np.random.rand()\n",
    "    # 取一个初始化的状态\n",
    "    states = [cur]\n",
    "    for i in range(10**6):\n",
    "        # 选择一个新的 Proposal State\n",
    "        next = np.random.rand()\n",
    "        u = np.random.rand()\n",
    "        if u < np.min((beta_s(next, a, b)/beta_s(cur, a, b), 1)):\n",
    "            states.append(next)\n",
    "            cur = next\n",
    "    x = np.arange(0, 1, .01)\n",
    "    plt.figure(figsize=(10, 5))\n",
    "    plt.plot(x, beta(x, a, b), lw=2, label='real dist: a={}, b={}'.format(a, b))\n",
    "    plt.hist(states[-1000:], 25, density=True, label='simu mcmc: a={}, b={}'.format(a, b))\n",
    "    plt.show()"
   ]
  },
  {
   "cell_type": "code",
   "execution_count": 5,
   "metadata": {
    "colab": {
     "base_uri": "https://localhost:8080/",
     "height": 407
    },
    "colab_type": "code",
    "executionInfo": {
     "elapsed": 10745,
     "status": "ok",
     "timestamp": 1563610658201,
     "user": {
      "displayName": "姜涛",
      "photoUrl": "",
      "userId": "04631377527255472122"
     },
     "user_tz": -480
    },
    "id": "876iWBRGXuxi",
    "outputId": "ee784abf-7746-4d6c-efbf-756170fbed36"
   },
   "outputs": [
    {
     "data": {
      "image/png": "[encoded data removed]",
      "text/plain": [
       "<Figure size 720x360 with 1 Axes>"
      ]
     },
     "metadata": {
      "needs_background": "light"
     },
     "output_type": "display_data"
    },
    {
     "name": "stdout",
     "output_type": "stream",
     "text": [
      "Wall time: 9.65 s\n"
     ]
    }
   ],
   "source": [
    "%%time\n",
    "plot_mh(2, 3)"
   ]
  },
  {
   "cell_type": "code",
   "execution_count": 0,
   "metadata": {
    "colab": {},
    "colab_type": "code",
    "id": "K6rZTHrGcKPR"
   },
   "outputs": [],
   "source": []
  }
 ],
 "metadata": {
  "colab": {
   "name": "Metropolis-Hastings实现Beta分布的采样.ipynb",
   "provenance": [],
   "version": "0.3.2"
  },
  "kernelspec": {
   "display_name": "Python 3",
   "language": "python",
   "name": "python3"
  },
  "language_info": {
   "codemirror_mode": {
    "name": "ipython",
    "version": 3
   },
   "file_extension": ".py",
   "mimetype": "text/x-python",
   "name": "python",
   "nbconvert_exporter": "python",
   "pygments_lexer": "ipython3",
   "version": "3.7.2"
  },
  "toc": {
   "base_numbering": 1,
   "nav_menu": {},
   "number_sections": true,
   "sideBar": true,
   "skip_h1_title": false,
   "title_cell": "Table of Contents",
   "title_sidebar": "Contents",
   "toc_cell": false,
   "toc_position": {},
   "toc_section_display": true,
   "toc_window_display": false
  }
 },
 "nbformat": 4,
 "nbformat_minor": 1
}
