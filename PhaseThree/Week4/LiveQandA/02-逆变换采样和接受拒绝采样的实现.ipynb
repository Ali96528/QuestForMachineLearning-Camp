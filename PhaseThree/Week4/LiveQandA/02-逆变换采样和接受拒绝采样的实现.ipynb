{
 "cells": [
  {
   "cell_type": "code",
   "execution_count": 1,
   "metadata": {
    "colab": {},
    "colab_type": "code",
    "id": "QQVircj2B6vh"
   },
   "outputs": [],
   "source": [
    "import numpy as np\n",
    "import matplotlib.pyplot as plt\n",
    "import pandas as pd"
   ]
  },
  {
   "cell_type": "markdown",
   "metadata": {
    "colab_type": "text",
    "id": "ogWnrFkwCeKz"
   },
   "source": [
    "# 逆变换采样\n",
    "\n",
    "指数分布的概率密度为：\n",
    "$f(x ; \\lambda)=\\lambda e^{-\\lambda x}(x \\geq 0)$\n",
    "\n",
    "指数分布的累积分布函数是：\n",
    "$$ \n",
    "y=F(x)=P(X \\leq x)=\\left\\{\\begin{array}{ll}{1-e^{-\\lambda x},} & {x \\geq 0} \\\\ {0,} & {x<0}\\end{array}\\right.\n",
    " $$\n",
    " \n",
    " 指数分布的累计函数的反函数是：\n",
    " $$ \n",
    "x=F^{-1}(y)=-\\frac{1}{\\lambda} * \\log (1-y)\n",
    " $$\n",
    "\n",
    "\n",
    "\n",
    "\n"
   ]
  },
  {
   "cell_type": "code",
   "execution_count": 2,
   "metadata": {
    "colab": {},
    "colab_type": "code",
    "id": "OIj4uymPCGX_"
   },
   "outputs": [],
   "source": [
    "def inverseSample(Lambda=2, maxCnt=50000):\n",
    "    xs = []\n",
    "    standardXaxis = []\n",
    "    standardExp = []\n",
    "    for i in range(maxCnt):\n",
    "        y = np.random.uniform()\n",
    "        x = -1 / Lambda * np.log(1 - y)\n",
    "        xs.append(x)\n",
    "        \n",
    "    for i in range(1000):\n",
    "        t = Lambda * np.exp(-Lambda * i / 100)\n",
    "        standardXaxis.append(i / 100)\n",
    "        standardExp.append(t)\n",
    "    plt.plot(standardXaxis, standardExp, 'r')\n",
    "    plt.hist(xs, 1000, density=True)\n",
    "    plt.show()"
   ]
  },
  {
   "cell_type": "code",
   "execution_count": 3,
   "metadata": {
    "colab": {
     "base_uri": "https://localhost:8080/",
     "height": 319
    },
    "colab_type": "code",
    "executionInfo": {
     "elapsed": 3462,
     "status": "ok",
     "timestamp": 1563449098997,
     "user": {
      "displayName": "姜涛",
      "photoUrl": "",
      "userId": "04631377527255472122"
     },
     "user_tz": -480
    },
    "id": "WUI965RLJKft",
    "outputId": "c45d4da3-352e-4069-c15e-1ba9398bb041"
   },
   "outputs": [
    {
     "data": {
      "image/png": "[encoded data removed]",
      "text/plain": [
       "<Figure size 432x288 with 1 Axes>"
      ]
     },
     "metadata": {
      "needs_background": "light"
     },
     "output_type": "display_data"
    }
   ],
   "source": [
    "inverseSample()"
   ]
  },
  {
   "cell_type": "markdown",
   "metadata": {
    "colab_type": "text",
    "id": "Fd77ID9chIXG"
   },
   "source": [
    "# 接受/拒绝采样\n",
    "\n",
    "对于目标分布$p(z)$,选取一个容易采样的参考分布$q(z)$,使得对于任意z都有$p ( z ) \\leqslant k \\cdot q ( z )$,则可以按如下过程采样:\n",
    "\n",
    "- 从参考分布$q(z)$中随机抽取一个样本$z_i$\n",
    "- 从均匀分布$U(0,1)$产生一个随机数$u_i$\n",
    "- 如果$u _ { i } < \\frac { p \\left( z _ { i } \\right) } { k q \\left( z _ { i } \\right) }$,则接受样本$z_i$;否则拒绝,重新进行步骤1~3,直到新产生的样本$z_i$被接受."
   ]
  },
  {
   "cell_type": "markdown",
   "metadata": {
    "colab_type": "text",
    "id": "irHrqtk3hjRn"
   },
   "source": [
    "## 使用接受/拒绝采样模拟求$\\pi$的值\n",
    "\n",
    "我们在学习随机模拟的时候通常会讲到用采样的方法来计算π 值，也就是在一个1×1的范围内随机采样一个点，如果它到原点的距离小于1,则说明它在1/4圆内，则接受它，最后通过接受的占比来计算1/4圆形的面积，从而根据公式反算出预估的π值，随着采样点的增多，最后的结果 $\\hat{\\pi}$会越精准。\n",
    "\n",
    "\n",
    "![替代文字](1.png)\n",
    "\n",
    "\n",
    "\n",
    "这里的原理是，首先用采样模拟正方形里，1/4圆的面积s，此时根据圆的面积的公式，有$\\pi 1^2 = 4s $"
   ]
  },
  {
   "cell_type": "code",
   "execution_count": 4,
   "metadata": {
    "colab": {},
    "colab_type": "code",
    "id": "9QxfF7DRhi6J"
   },
   "outputs": [],
   "source": [
    "def samplePi(maxCnt=1000000):\n",
    "    accCnt = 0\n",
    "    for i in range(maxCnt):\n",
    "        x = np.random.random()\n",
    "        y = np.random.random()\n",
    "        if np.sqrt(x ** 2 + y ** 2) < 1:\n",
    "            accCnt += 1\n",
    "    print(\"PI ~\", float(accCnt) / maxCnt * 4)\n"
   ]
  },
  {
   "cell_type": "code",
   "execution_count": 5,
   "metadata": {
    "colab": {
     "base_uri": "https://localhost:8080/",
     "height": 34
    },
    "colab_type": "code",
    "executionInfo": {
     "elapsed": 13841,
     "status": "ok",
     "timestamp": 1563449109394,
     "user": {
      "displayName": "姜涛",
      "photoUrl": "",
      "userId": "04631377527255472122"
     },
     "user_tz": -480
    },
    "id": "t35J8KnwJL56",
    "outputId": "25a3086e-f191-47e8-a0e6-a926e59f4cdc"
   },
   "outputs": [
    {
     "name": "stdout",
     "output_type": "stream",
     "text": [
      "PI ~ 3.1420432\n"
     ]
    }
   ],
   "source": [
    "samplePi(5000000)"
   ]
  },
  {
   "cell_type": "markdown",
   "metadata": {
    "colab_type": "text",
    "id": "0tz7RiZQ0yxl"
   },
   "source": [
    "## 一个接受/拒绝的例子"
   ]
  },
  {
   "cell_type": "code",
   "execution_count": 6,
   "metadata": {
    "colab": {},
    "colab_type": "code",
    "id": "VQaMw4JTj-uX"
   },
   "outputs": [],
   "source": [
    "import scipy.stats as st\n",
    "import seaborn as sns"
   ]
  },
  {
   "cell_type": "code",
   "execution_count": 7,
   "metadata": {
    "colab": {},
    "colab_type": "code",
    "id": "-WNmO9wq09td"
   },
   "outputs": [],
   "source": [
    "sns.set()"
   ]
  },
  {
   "cell_type": "code",
   "execution_count": 8,
   "metadata": {
    "colab": {},
    "colab_type": "code",
    "id": "iuFHjV2V1Gin"
   },
   "outputs": [],
   "source": [
    "def p(x):\n",
    "    return st.norm.pdf(x, loc=30, scale=10) + st.norm.pdf(x, loc=80, scale=20)"
   ]
  },
  {
   "cell_type": "code",
   "execution_count": 9,
   "metadata": {
    "colab": {},
    "colab_type": "code",
    "id": "jcsT15ze1XhZ"
   },
   "outputs": [],
   "source": [
    "def q(x):\n",
    "    return st.norm.pdf(x, loc=50, scale=30)"
   ]
  },
  {
   "cell_type": "code",
   "execution_count": 10,
   "metadata": {
    "colab": {},
    "colab_type": "code",
    "id": "wkSv7MXJ1dib"
   },
   "outputs": [],
   "source": [
    "x = np.arange(-50, 151)\n",
    "k = max(p(x) / q(x))"
   ]
  },
  {
   "cell_type": "code",
   "execution_count": 11,
   "metadata": {
    "colab": {},
    "colab_type": "code",
    "id": "y7qhzjQt1rYy"
   },
   "outputs": [],
   "source": [
    "def rejection_sample(maxCnt=10000):\n",
    "    samples = []\n",
    "    for i in range(maxCnt):\n",
    "        z = np.random.normal(50, 30)\n",
    "        u = np.random.uniform(0, k * q(z))\n",
    "        \n",
    "        if u <= p(z):\n",
    "            samples.append(z)\n",
    "        \n",
    "    return np.array(samples)"
   ]
  },
  {
   "cell_type": "code",
   "execution_count": 12,
   "metadata": {
    "colab": {
     "base_uri": "https://localhost:8080/",
     "height": 274
    },
    "colab_type": "code",
    "executionInfo": {
     "elapsed": 1009,
     "status": "ok",
     "timestamp": 1563449446338,
     "user": {
      "displayName": "姜涛",
      "photoUrl": "",
      "userId": "04631377527255472122"
     },
     "user_tz": -480
    },
    "id": "Uwq9d0sW2OEO",
    "outputId": "74b47ef9-4769-4b45-dff9-ce7d3a2b12cb"
   },
   "outputs": [
    {
     "data": {
      "image/png": "[encoded data removed]",
      "text/plain": [
       "<Figure size 432x288 with 1 Axes>"
      ]
     },
     "metadata": {},
     "output_type": "display_data"
    }
   ],
   "source": [
    "plt.plot(x, p(x))\n",
    "plt.plot(x, k*q(x))\n",
    "plt.show()"
   ]
  },
  {
   "cell_type": "code",
   "execution_count": 13,
   "metadata": {
    "colab": {
     "base_uri": "https://localhost:8080/",
     "height": 290
    },
    "colab_type": "code",
    "executionInfo": {
     "elapsed": 27028,
     "status": "ok",
     "timestamp": 1563449518324,
     "user": {
      "displayName": "姜涛",
      "photoUrl": "",
      "userId": "04631377527255472122"
     },
     "user_tz": -480
    },
    "id": "vyDxihQB2Utu",
    "outputId": "de51b988-4836-4daf-9e62-f5dbdc96021d"
   },
   "outputs": [
    {
     "data": {
      "text/plain": [
       "<matplotlib.axes._subplots.AxesSubplot at 0x2cfb24e0>"
      ]
     },
     "execution_count": 13,
     "metadata": {},
     "output_type": "execute_result"
    },
    {
     "data": {
      "image/png": "[encoded data removed]",
      "text/plain": [
       "<Figure size 432x288 with 1 Axes>"
      ]
     },
     "metadata": {},
     "output_type": "display_data"
    }
   ],
   "source": [
    "s = rejection_sample(maxCnt=100000)\n",
    "sns.distplot(s)"
   ]
  }
 ],
 "metadata": {
  "colab": {
   "collapsed_sections": [],
   "name": "采样方法的实现.ipynb",
   "provenance": [],
   "version": "0.3.2"
  },
  "kernelspec": {
   "display_name": "Python 3",
   "language": "python",
   "name": "python3"
  },
  "language_info": {
   "codemirror_mode": {
    "name": "ipython",
    "version": 3
   },
   "file_extension": ".py",
   "mimetype": "text/x-python",
   "name": "python",
   "nbconvert_exporter": "python",
   "pygments_lexer": "ipython3",
   "version": "3.7.2"
  },
  "toc": {
   "base_numbering": 1,
   "nav_menu": {},
   "number_sections": true,
   "sideBar": true,
   "skip_h1_title": false,
   "title_cell": "Table of Contents",
   "title_sidebar": "Contents",
   "toc_cell": false,
   "toc_position": {},
   "toc_section_display": true,
   "toc_window_display": false
  }
 },
 "nbformat": 4,
 "nbformat_minor": 1
}
