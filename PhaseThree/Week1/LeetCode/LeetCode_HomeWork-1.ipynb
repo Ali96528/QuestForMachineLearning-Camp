{
 "cells": [
  {
   "cell_type": "markdown",
   "metadata": {
    "collapsed": true
   },
   "source": [
    "# 第1周 Leetcode 算法题\n",
    "## 167. 两数之和 II - 输入有序数组\n",
    "给定一个已按照升序排列的有序数组，找到两个数使得它们相加之和等于目标数。  \n",
    "函数应该返回这两个下标值index1 和 index2，其中 index1 必须小于 index2。  \n",
    "**说明:**  \n",
    "- 返回的下标值（index1 和 index2）不是从零开始的。  \n",
    "- 你可以假设每个输入只对应唯一的答案，而且你不可以重复使用相同的元素。  \n",
    "\n",
    "**示例:**  \n",
    ">**输入:** numbers = [2, 7, 11, 15], target = 9  \n",
    "**输出:** [1,2]  \n",
    "**解释:** 2 与 7 之和等于目标数 9 。因此 index1 = 1, index2 = 2 。  \n",
    "\n",
    "来源：力扣（LeetCode）  \n",
    "链接：https://leetcode-cn.com/problems/two-sum-ii-input-array-is-sorted  \n",
    "著作权归领扣网络所有。商业转载请联系官方授权，非商业转载请注明出处。  "
   ]
  },
  {
   "cell_type": "code",
   "execution_count": 1,
   "metadata": {},
   "outputs": [],
   "source": [
    "def test_twoSum(func):\n",
    "    numbers = [2, 7, 11, 15]\n",
    "    target = 9\n",
    "    assert func(numbers, target)==[1, 2]"
   ]
  },
  {
   "cell_type": "markdown",
   "metadata": {},
   "source": [
    "### 穷举法"
   ]
  },
  {
   "cell_type": "code",
   "execution_count": 2,
   "metadata": {},
   "outputs": [],
   "source": [
    "from typing import List\n",
    "\n",
    "def twoSum_exhaustive(numbers: List[int], target: int) -> List[int]:\n",
    "    n = len(numbers)\n",
    "    for i in range(n):\n",
    "        for j in range(i-1, n):\n",
    "            if numbers[i] + numbers[j] == target:\n",
    "                return [i+1, j+1]\n",
    "\n",
    "test_twoSum(twoSum_exhaustive)"
   ]
  },
  {
   "cell_type": "markdown",
   "metadata": {},
   "source": [
    "### 双指针"
   ]
  },
  {
   "cell_type": "code",
   "execution_count": 3,
   "metadata": {},
   "outputs": [],
   "source": [
    "def twoSum_double_pointers(numbers: List[int], target: int) -> List[int]:\n",
    "    l_pointer, r_pointer = 0,  len(numbers)-1\n",
    "    while l_pointer < r_pointer:\n",
    "        s = numbers[l_pointer] + numbers[r_pointer]\n",
    "        if s == target:\n",
    "            return [l_pointer+1, r_pointer+1]\n",
    "        elif s < target:\n",
    "            l_pointer += 1\n",
    "        else:\n",
    "            r_pointer -= 1\n",
    "\n",
    "test_twoSum(twoSum_double_pointers)"
   ]
  },
  {
   "cell_type": "markdown",
   "metadata": {},
   "source": [
    "### 字典法"
   ]
  },
  {
   "cell_type": "code",
   "execution_count": 4,
   "metadata": {},
   "outputs": [],
   "source": [
    "def twoSum_dic(numbers: List[int], target: int) -> List[int]:\n",
    "    numDict = {}\n",
    "    for i, num in enumerate(numbers):\n",
    "        if numDict.get(target - num) is not None:\n",
    "            return [ numDict.get(target - num) + 1, i +1]\n",
    "\n",
    "        numDict[num] = i\n",
    "        \n",
    "test_twoSum(twoSum_dic)"
   ]
  },
  {
   "cell_type": "markdown",
   "metadata": {},
   "source": [
    "## 215. 数组中的第K个最大元素\n",
    "\n",
    "在未排序的数组中找到第 k 个最大的元素。请注意，你需要找的是数组排序后的第 k 个最大的元素，而不是第 k 个不同的元素。\n",
    "\n",
    "**示例1:**  \n",
    ">**输入:** [3,2,1,5,6,4] 和 k = 2  \n",
    "**输出**: 5  \n",
    "\n",
    "**示例2:**  \n",
    ">**输入:** [3,2,3,1,2,4,5,5,6] 和 k = 4  \n",
    "**输出:** 4  \n",
    "\n",
    "**说明:**\n",
    "你可以假设 k 总是有效的，且1$\\leqslant$k$\\leqslant$数组的长度。\n",
    "\n",
    "来源：力扣（LeetCode）  \n",
    "链接：https://leetcode-cn.com/problems/kth-largest-element-in-an-array  \n",
    "著作权归领扣网络所有。商业转载请联系官方授权，非商业转载请注明出处。"
   ]
  },
  {
   "cell_type": "code",
   "execution_count": 5,
   "metadata": {},
   "outputs": [],
   "source": [
    "def test_findKthLargest(func):\n",
    "    numbers = [3,2,1,5,6,4]\n",
    "    k = 2\n",
    "    assert func(numbers, k) == 5\n",
    "    numbers = [3,2,3,1,2,4,5,5,6]\n",
    "    k = 4\n",
    "    assert func(numbers, k) == 4"
   ]
  },
  {
   "cell_type": "markdown",
   "metadata": {},
   "source": [
    "### 排序"
   ]
  },
  {
   "cell_type": "code",
   "execution_count": 6,
   "metadata": {},
   "outputs": [],
   "source": [
    "def findKthLargest_sort(nums: List[int], k: int) -> int:\n",
    "    nums.sort()\n",
    "    return nums[-k]\n",
    "\n",
    "test_findKthLargest(findKthLargest_sort)"
   ]
  },
  {
   "cell_type": "markdown",
   "metadata": {},
   "source": [
    "### 堆"
   ]
  },
  {
   "cell_type": "code",
   "execution_count": 7,
   "metadata": {},
   "outputs": [],
   "source": [
    "import heapq\n",
    "# 调包的方式\n",
    "def findKthLargest_heapq(nums: List[int], k: int) -> int:\n",
    "    return heapq.nlargest(k, nums)[-1]\n",
    "\n",
    "test_findKthLargest(findKthLargest_heapq)"
   ]
  },
  {
   "cell_type": "code",
   "execution_count": 8,
   "metadata": {},
   "outputs": [],
   "source": [
    "# 手写堆栈\n",
    "def findKthLargest_stack(nums: List[int], k: int) -> int:\n",
    "    stack = []\n",
    "    for num in nums:\n",
    "        if len(stack) < k:\n",
    "            stack.append(num)\n",
    "            stack.sort()\n",
    "        else:\n",
    "            stack.append(num)\n",
    "            stack.sort()\n",
    "            stack.pop(0)\n",
    "    return stack[0]\n",
    "\n",
    "test_findKthLargest(findKthLargest_stack)"
   ]
  },
  {
   "cell_type": "markdown",
   "metadata": {},
   "source": [
    "### 快速选择\n",
    "每一次排序能够确定一个数在序列中的位置，若该树的位置等于k，则返回，理论上要优于快排"
   ]
  },
  {
   "cell_type": "code",
   "execution_count": 9,
   "metadata": {},
   "outputs": [],
   "source": [
    "def findKthLargest_quickSelect(nums: List[int], k: int) -> int:\n",
    "    \n",
    "    def quick_select(nums, k):\n",
    "        pos = nums[0]\n",
    "        left = []\n",
    "        mid = []\n",
    "        right = []\n",
    "        for num in nums:\n",
    "            if num < pos:\n",
    "                left.append(num)\n",
    "            elif num == pos:\n",
    "                mid.append(num)\n",
    "            else:\n",
    "                right.append(num)\n",
    "\n",
    "        arr = left + mid + right\n",
    "        if arr[-k] == pos:\n",
    "            return pos\n",
    "        elif arr[-k] > pos:\n",
    "            return quick_select(right, k)\n",
    "        else:\n",
    "            return quick_select(left, k - len(mid) - len(right))\n",
    "    \n",
    "    return quick_select(nums, k)\n",
    "    \n",
    "test_findKthLargest(findKthLargest_quickSelect)"
   ]
  },
  {
   "cell_type": "markdown",
   "metadata": {},
   "source": [
    "## 347. 前 K 个高频元素\n",
    "给定一个非空的整数数组，返回其中出现频率前k高的元素。  \n",
    "**示例 1:**  \n",
    ">**输入:** nums = [1,1,1,2,2,3], k = 2  \n",
    "**输出:** [1,2]  \n",
    "\n",
    "**示例 2:**  \n",
    ">**输入:** nums = [1], k = 1  \n",
    "**输出:** [1]  \n",
    "\n",
    "**说明：**  \n",
    "你可以假设给定的 k 总是合理的，且 1$\\leqslant$k$\\leqslant$数组中不相同的元素的个数。  \n",
    "你的算法的时间复杂度必须优于$O(n \\log n)$，n是数组的大小。  \n",
    "\n",
    "来源：力扣（LeetCode）  \n",
    "链接：https://leetcode-cn.com/problems/top-k-frequent-elements  \n",
    "著作权归领扣网络所有。商业转载请联系官方授权，非商业转载请注明出处。  "
   ]
  },
  {
   "cell_type": "code",
   "execution_count": 10,
   "metadata": {},
   "outputs": [],
   "source": [
    "def test_topKFrequent(func):\n",
    "    nums = [1,1,1,2,2,3]\n",
    "    k = 2\n",
    "    assert func(nums, k) == [1,2]\n",
    "    nums = [1]\n",
    "    k = 1\n",
    "    assert func(nums, k) == [1]"
   ]
  },
  {
   "cell_type": "code",
   "execution_count": 11,
   "metadata": {},
   "outputs": [],
   "source": [
    "import heapq\n",
    "import collections\n",
    "\n",
    "def topKFrequent(nums: List[int], k: int) -> List[int]:\n",
    "    count = collections.Counter(nums)\n",
    "    return heapq.nlargest(k, count.keys(), key=count.get)"
   ]
  },
  {
   "cell_type": "markdown",
   "metadata": {},
   "source": [
    "**复杂度分析**  \n",
    "时间复杂度：$O(N\\log(k))$。Counter方法的复杂度是$O(N)$，建堆和输出的复杂度是$O(N \\log(k))$。因此总复杂度为$O(N + N \\log(k))=O(N \\log(k))$。  \n",
    "空间复杂度：$O(N)$，存储哈希表的开销。"
   ]
  },
  {
   "cell_type": "markdown",
   "metadata": {},
   "source": [
    "## 75. 颜色分类\n",
    "给定一个包含红色、白色和蓝色，一共n个元素的数组，原地对它们进行排序，使得相同颜色的元素相邻，并按照红色、白色、蓝色顺序排列。  \n",
    "此题中，我们使用整数0、1和2分别表示红色、白色和蓝色。  \n",
    "\n",
    "**注意:**  \n",
    "不能使用代码库中的排序函数来解决这道题。  \n",
    "\n",
    "**示例:**  \n",
    ">**输入:**  [2,0,2,1,1,0]  \n",
    "**输出:**  [0,0,1,1,2,2]  \n",
    "\n",
    "**进阶：**  \n",
    "- 一个直观的解决方案是使用计数排序的两趟扫描算法。  \n",
    "首先，迭代计算出0、1和2元素的个数，然后按照0、1、2的排序，重写当前数组。  \n",
    "- 你能想出一个仅使用常数空间的一趟扫描算法吗？  \n",
    "\n",
    "来源：力扣（LeetCode）  \n",
    "链接：https://leetcode-cn.com/problems/sort-colors  \n",
    "著作权归领扣网络所有。商业转载请联系官方授权，非商业转载请注明出处。  "
   ]
  },
  {
   "cell_type": "code",
   "execution_count": 12,
   "metadata": {},
   "outputs": [],
   "source": [
    "def test_sortColors(func):\n",
    "    nums = [2, 0, 2, 1, 1, 0]\n",
    "    func(nums)\n",
    "    assert nums == [0, 0, 1, 1, 2, 2]"
   ]
  },
  {
   "cell_type": "markdown",
   "metadata": {},
   "source": [
    "### 计数排序，两趟扫描算法"
   ]
  },
  {
   "cell_type": "code",
   "execution_count": 13,
   "metadata": {},
   "outputs": [],
   "source": [
    "def sortColors_count(nums: List[int]) -> None:\n",
    "    count = collections.Counter(nums)\n",
    "    setarr = set(nums)\n",
    "    nums.clear()\n",
    "    for num in setarr:\n",
    "        for _ in range(count.get(num)):\n",
    "            nums.append(num)\n",
    "\n",
    "test_sortColors(sortColors_count)"
   ]
  },
  {
   "cell_type": "markdown",
   "metadata": {},
   "source": [
    "### 荷兰国旗，三指针算法\n",
    "\n",
    "我们用三个指针（p0, p2 和curr）来分别追踪0的最右边界，2的最左边界和当前考虑的元素。  \n",
    "本解法的思路是沿着数组移动 curr 指针，若nums[curr] = 0，则将其与 nums[p0]互换；若 nums[curr] = 2 ，则与 nums[p2]互换。  \n",
    "\n",
    "**算法：**\n",
    "- 初始化0的最右边界：p0 = 0。在整个算法执行过程中 nums[idx < p0] = 0.\n",
    "- 初始化2的最左边界 ：p2 = n - 1。在整个算法执行过程中 nums[idx > p2] = 2.\n",
    "- 初始化当前考虑的元素序号 ：curr = 0.\n",
    "- While curr <= p2 :  \n",
    "  - 若 nums[curr] = 0 ：交换第curr个和第p0个元素，并将指针都向右移。\n",
    "  - 若 nums[curr] = 2 ：交换第curr个和第p2个元素，并将p2指针左移 。\n",
    "  - 若 nums[curr] = 1 ：将指针curr右移。\n",
    "\n",
    "作者：LeetCode  \n",
    "链接：https://leetcode-cn.com/problems/sort-colors/solution/yan-se-fen-lei-by-leetcode/  \n",
    "来源：力扣（LeetCode）  \n",
    "著作权归作者所有。商业转载请联系作者获得授权，非商业转载请注明出处。  "
   ]
  },
  {
   "cell_type": "code",
   "execution_count": 14,
   "metadata": {},
   "outputs": [],
   "source": [
    "def sortColors_three_pointer(nums: List[int]) -> None:\n",
    "    \"\"\"\n",
    "    荷兰三色旗问题解\n",
    "    \"\"\"\n",
    "    # 对于所有 idx < p0 : nums[idx < p0] = 0\n",
    "    # curr是当前考虑元素的下标\n",
    "    p0 = curr = 0\n",
    "    # 对于所有 idx > p2 : nums[idx > p2] = 2\n",
    "    p2 = len(nums) - 1\n",
    "\n",
    "    while curr <= p2:\n",
    "        if nums[curr] == 0:\n",
    "            nums[p0], nums[curr] = nums[curr], nums[p0]\n",
    "            p0 += 1\n",
    "            curr += 1\n",
    "        elif nums[curr] == 2:\n",
    "            nums[curr], nums[p2] = nums[p2], nums[curr]\n",
    "            p2 -= 1\n",
    "        else:\n",
    "            curr += 1\n",
    "\n",
    "\n",
    "test_sortColors(sortColors_three_pointer)               "
   ]
  },
  {
   "cell_type": "markdown",
   "metadata": {},
   "source": [
    "## 455. 分发饼干\n",
    "\n",
    "假设你是一位很棒的家长，想要给你的孩子们一些小饼干。但是，每个孩子最多只能给一块饼干。对每个孩子$i$，都有一个胃口值$g_i$，这是能让孩子们满足胃口的饼干的最小尺寸；并且每块饼$j$，都有一个尺寸$s_j$。如果$s_j \\geqslant g_i$ ，我们可以将这个饼干$j$分配给孩子$i$，这个孩子会得到满足。你的目标是尽可能满足越多数量的孩子，并输出这个最大数值。\n",
    "\n",
    "**注意：**  \n",
    "你可以假设胃口值为正。  \n",
    "一个小朋友最多只能拥有一块饼干。  \n",
    "\n",
    "**示例1:**  \n",
    ">**输入:** [1,2,3], [1,1]  \n",
    "**输出:** 1  \n",
    "\n",
    "**解释:** \n",
    "你有三个孩子和两块小饼干，3个孩子的胃口值分别是：1,2,3。  \n",
    "虽然你有两块小饼干，由于他们的尺寸都是1，你只能让胃口值是1的孩子满足。  \n",
    "所以你应该输出1。  \n",
    "\n",
    "**示例2:**  \n",
    ">**输入:** [1,2], [1,2,3]  \n",
    "**输出:** 2  \n",
    "\n",
    "**解释:**   \n",
    "你有两个孩子和三块小饼干，2个孩子的胃口值分别是1,2。  \n",
    "你拥有的饼干数量和尺寸都足以让所有孩子满足。  \n",
    "所以你应该输出2.  \n",
    "\n",
    "来源：力扣（LeetCode）  \n",
    "链接：https://leetcode-cn.com/problems/assign-cookies  \n",
    "著作权归领扣网络所有。商业转载请联系官方授权，非商业转载请注明出处。  "
   ]
  },
  {
   "cell_type": "code",
   "execution_count": 15,
   "metadata": {},
   "outputs": [],
   "source": [
    "def test_findContentChildren(func):\n",
    "    g = [1, 2, 3]\n",
    "    s = [1, 1]\n",
    "    assert func(g, s) == 1\n",
    "    g = [1, 2]\n",
    "    s = [1, 2, 3]\n",
    "    assert func(g, s) == 2"
   ]
  },
  {
   "cell_type": "markdown",
   "metadata": {},
   "source": [
    "采用贪心算法：\n",
    "1. 给一个孩子的饼干应当尽量小并且又能满足该孩子，这样大饼干才能拿来给满足度比较大的孩子。\n",
    "2. 因为满足度最小的孩子最容易得到满足，所以先满足满足度最小的孩子。"
   ]
  },
  {
   "cell_type": "code",
   "execution_count": 16,
   "metadata": {},
   "outputs": [],
   "source": [
    "def findContentChildren(g: List[int], s: List[int]) -> int:\n",
    "    g.sort()\n",
    "    s.sort()\n",
    "    g_i = s_i = 0\n",
    "    while g_i < len(g) and s_i < len(s):\n",
    "        if g[g_i] <= s[s_i]:\n",
    "            g_i += 1\n",
    "        s_i += 1\n",
    "\n",
    "    return g_i\n",
    "\n",
    "test_findContentChildren(findContentChildren)"
   ]
  },
  {
   "cell_type": "code",
   "execution_count": null,
   "metadata": {},
   "outputs": [],
   "source": []
  }
 ],
 "metadata": {
  "kernelspec": {
   "display_name": "Python 3",
   "language": "python",
   "name": "python3"
  },
  "language_info": {
   "codemirror_mode": {
    "name": "ipython",
    "version": 3
   },
   "file_extension": ".py",
   "mimetype": "text/x-python",
   "name": "python",
   "nbconvert_exporter": "python",
   "pygments_lexer": "ipython3",
   "version": "3.7.2"
  },
  "toc": {
   "base_numbering": 1,
   "nav_menu": {},
   "number_sections": true,
   "sideBar": true,
   "skip_h1_title": false,
   "title_cell": "Table of Contents",
   "title_sidebar": "Contents",
   "toc_cell": false,
   "toc_position": {
    "height": "calc(100% - 180px)",
    "left": "10px",
    "top": "150px",
    "width": "273.188px"
   },
   "toc_section_display": true,
   "toc_window_display": false
  }
 },
 "nbformat": 4,
 "nbformat_minor": 1
}
