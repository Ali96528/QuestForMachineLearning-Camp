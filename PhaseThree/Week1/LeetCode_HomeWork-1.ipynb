{
 "cells": [
  {
   "cell_type": "markdown",
   "metadata": {
    "collapsed": true
   },
   "source": [
    "# 第1周 Leetcode 算法题\n",
    "## 167. 两数之和 II - 输入有序数组\n",
    "给定一个已按照升序排列的有序数组，找到两个数使得它们相加之和等于目标数。  \n",
    "函数应该返回这两个下标值index1和index2，其中index1必须小于index2。  \n",
    "**说明:**  \n",
    "- 返回的下标值（index1 和 index2）不是从零开始的。  \n",
    "- 你可以假设每个输入只对应唯一的答案，而且你不可以重复使用相同的元素。  \n",
    "\n",
    "**示例:**  \n",
    ">**输入:** numbers = [2, 7, 11, 15], target = 9  \n",
    "**输出:** [1,2]  \n",
    "**解释:** 2 与 7 之和等于目标数 9 。因此 index1 = 1, index2 = 2 。  \n",
    "\n",
    "来源：力扣（LeetCode）  \n",
    "链接：https://leetcode-cn.com/problems/two-sum-ii-input-array-is-sorted  \n",
    "著作权归领扣网络所有。商业转载请联系官方授权，非商业转载请注明出处。  "
   ]
  },
  {
   "cell_type": "code",
   "execution_count": 1,
   "metadata": {},
   "outputs": [],
   "source": [
    "def test_twoSum(func):\n",
    "    numbers = [2, 7, 11, 15]\n",
    "    target = 9\n",
    "    assert func(numbers, target)==[1, 2]"
   ]
  },
  {
   "cell_type": "markdown",
   "metadata": {},
   "source": [
    "### 穷举法"
   ]
  },
  {
   "cell_type": "code",
   "execution_count": 2,
   "metadata": {},
   "outputs": [],
   "source": [
    "from typing import List\n",
    "\n",
    "def twoSum_exhaustive(numbers: List[int], target: int) -> List[int]:\n",
    "    n = len(numbers)\n",
    "    for i in range(n):\n",
    "        for j in range(i-1, n):\n",
    "            if numbers[i] + numbers[j] == target:\n",
    "                return [i+1, j+1]\n",
    "\n",
    "test_twoSum(twoSum_exhaustive)"
   ]
  },
  {
   "cell_type": "markdown",
   "metadata": {},
   "source": [
    "### 双指针"
   ]
  },
  {
   "cell_type": "code",
   "execution_count": 3,
   "metadata": {},
   "outputs": [],
   "source": [
    "def twoSum_double_pointers(numbers: List[int], target: int) -> List[int]:\n",
    "    l_pointer, r_pointer = 0,  len(numbers)-1\n",
    "    while l_pointer < r_pointer:\n",
    "        s = numbers[l_pointer] + numbers[r_pointer]\n",
    "        if s == target:\n",
    "            return [l_pointer+1, r_pointer+1]\n",
    "        elif s < target:\n",
    "            l_pointer += 1\n",
    "        else:\n",
    "            r_pointer -= 1\n",
    "\n",
    "test_twoSum(twoSum_double_pointers)"
   ]
  },
  {
   "cell_type": "markdown",
   "metadata": {},
   "source": [
    "### 字典法"
   ]
  },
  {
   "cell_type": "code",
   "execution_count": 4,
   "metadata": {},
   "outputs": [],
   "source": [
    "def twoSum_dic(numbers: List[int], target: int) -> List[int]:\n",
    "    numDict = {}\n",
    "    for i, num in enumerate(numbers):\n",
    "        if numDict.get(target - num) is not None:\n",
    "            return [ numDict.get(target - num) + 1, i +1]\n",
    "\n",
    "        numDict[num] = i\n",
    "        \n",
    "test_twoSum(twoSum_dic)"
   ]
  },
  {
   "cell_type": "markdown",
   "metadata": {},
   "source": [
    "## 215. 数组中的第K个最大元素\n",
    "\n",
    "在未排序的数组中找到第 k 个最大的元素。请注意，你需要找的是数组排序后的第 k 个最大的元素，而不是第 k 个不同的元素。\n",
    "\n",
    "**示例1:**\n",
    ">**输入:** [3,2,1,5,6,4] 和 k = 2  \n",
    "**输出**: 5  \n",
    "\n",
    "**示例2:**  \n",
    ">**输入:** [3,2,3,1,2,4,5,5,6] 和 k = 4  \n",
    "**输出:** 4  \n",
    "\n",
    "**说明:**\n",
    "你可以假设k总是有效的，且1$\\leqslant$k$\\leqslant$数组的长度。\n",
    "\n",
    "来源：力扣（LeetCode）  \n",
    "链接：https://leetcode-cn.com/problems/kth-largest-element-in-an-array  \n",
    "著作权归领扣网络所有。商业转载请联系官方授权，非商业转载请注明出处。"
   ]
  },
  {
   "cell_type": "code",
   "execution_count": 5,
   "metadata": {},
   "outputs": [],
   "source": [
    "def test_findKthLargest(func):\n",
    "    numbers = [3,2,1,5,6,4]\n",
    "    k = 2\n",
    "    assert func(numbers, k) == 5\n",
    "    numbers = [3,2,3,1,2,4,5,5,6]\n",
    "    k = 4\n",
    "    assert func(numbers, k) == 4"
   ]
  },
  {
   "cell_type": "markdown",
   "metadata": {},
   "source": [
    "### 排序"
   ]
  },
  {
   "cell_type": "code",
   "execution_count": 8,
   "metadata": {},
   "outputs": [],
   "source": [
    "def findKthLargest_sort(nums: List[int], k: int) -> int:\n",
    "    nums.sort()\n",
    "    return nums[-k]\n",
    "\n",
    "test_findKthLargest(findKthLargest_sort)"
   ]
  },
  {
   "cell_type": "markdown",
   "metadata": {},
   "source": [
    "### 堆"
   ]
  },
  {
   "cell_type": "code",
   "execution_count": 10,
   "metadata": {},
   "outputs": [],
   "source": [
    "import heapq\n",
    "# 调包的方式\n",
    "def findKthLargest_heapq(nums: List[int], k: int) -> int:\n",
    "    return heapq.nlargest(k, nums)[-1]\n",
    "\n",
    "test_findKthLargest(findKthLargest_heapq)"
   ]
  },
  {
   "cell_type": "code",
   "execution_count": 11,
   "metadata": {},
   "outputs": [],
   "source": [
    "# 手写堆栈\n",
    "def findKthLargest_stack(nums: List[int], k: int) -> int:\n",
    "    stack = []\n",
    "    for num in nums:\n",
    "        if len(stack) < k:\n",
    "            stack.append(num)\n",
    "            stack.sort()\n",
    "        else:\n",
    "            stack.append(num)\n",
    "            stack.sort()\n",
    "            stack.pop(0)\n",
    "    return stack[0]\n",
    "\n",
    "test_findKthLargest(findKthLargest_stack)"
   ]
  },
  {
   "cell_type": "markdown",
   "metadata": {},
   "source": [
    "### 快速选择\n",
    "每一次排序能够确定一个数在序列中的位置，若该树的位置等于k，则返回，理论上要优于快排"
   ]
  },
  {
   "cell_type": "code",
   "execution_count": 13,
   "metadata": {},
   "outputs": [],
   "source": [
    "def findKthLargest_quickSelect(nums: List[int], k: int) -> int:\n",
    "    \n",
    "    def quick_select(nums, k):\n",
    "        pos = nums[0]\n",
    "        left = []\n",
    "        mid = []\n",
    "        right = []\n",
    "        for num in nums:\n",
    "            if num < pos:\n",
    "                left.append(num)\n",
    "            elif num == pos:\n",
    "                mid.append(num)\n",
    "            else:\n",
    "                right.append(num)\n",
    "\n",
    "        arr = left + mid + right\n",
    "        if arr[-k] == pos:\n",
    "            return pos\n",
    "        elif arr[-k] > pos:\n",
    "            return quick_select(right, k)\n",
    "        else:\n",
    "            return quick_select(left, k - len(mid) - len(right))\n",
    "    \n",
    "    return quick_select(nums, k)\n",
    "    \n",
    "test_findKthLargest(findKthLargest_quickSelect)"
   ]
  },
  {
   "cell_type": "code",
   "execution_count": null,
   "metadata": {},
   "outputs": [],
   "source": []
  }
 ],
 "metadata": {
  "kernelspec": {
   "display_name": "Python 3",
   "language": "python",
   "name": "python3"
  },
  "language_info": {
   "codemirror_mode": {
    "name": "ipython",
    "version": 3
   },
   "file_extension": ".py",
   "mimetype": "text/x-python",
   "name": "python",
   "nbconvert_exporter": "python",
   "pygments_lexer": "ipython3",
   "version": "3.7.2"
  },
  "toc": {
   "base_numbering": 1,
   "nav_menu": {},
   "number_sections": true,
   "sideBar": true,
   "skip_h1_title": false,
   "title_cell": "Table of Contents",
   "title_sidebar": "Contents",
   "toc_cell": false,
   "toc_position": {},
   "toc_section_display": true,
   "toc_window_display": false
  }
 },
 "nbformat": 4,
 "nbformat_minor": 1
}
